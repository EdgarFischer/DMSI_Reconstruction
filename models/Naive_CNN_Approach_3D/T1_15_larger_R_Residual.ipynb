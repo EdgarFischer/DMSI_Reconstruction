{
 "cells": [
  {
   "cell_type": "code",
   "execution_count": null,
   "id": "0",
   "metadata": {},
   "outputs": [],
   "source": [
    "import os\n",
    "import sys\n",
    "\n",
    "sys.path.append('../../scripts')\n",
    "sys.path.append('../../models')\n",
    "\n",
    "os.environ[\"CUDA_VISIBLE_DEVICES\"]= '2' #, this way I would choose GPU 3 to do the work\n",
    "\n",
    "import torch\n",
    "import numpy as np\n",
    "import matplotlib.pyplot as plt\n",
    "from scipy.ndimage import zoom # for compressing images / only for testing purposes to speed up NN training\n",
    "from torch.utils.data import DataLoader, Subset\n",
    "import torch.optim as optim\n",
    "import torch.nn as nn\n",
    "from data_preparation import *\n",
    "from data_undersampling import *\n",
    "from Naive_CNN_3D_Residual import *\n",
    "from output_statistics import *\n",
    "\n",
    "trancuate_t = 15 # set this parameter to control at which time step you stop using the signal\n",
    "grouped_time_steps = 1 # Set how many subsequent time steps you want to give to the network at once. Values allowed: 1, 2, 4, 8 (because it has to divide 8)"
   ]
  },
  {
   "cell_type": "markdown",
   "id": "1",
   "metadata": {},
   "source": [
    "1. Loading data"
   ]
  },
  {
   "cell_type": "code",
   "execution_count": null,
   "id": "2",
   "metadata": {},
   "outputs": [],
   "source": [
    "combined_data = np.load('../../data/combined_data_low_rank_15.npy')\n",
    "combined_data = combined_data[:, :, :, :trancuate_t, :, :] # throw out t > 20 in this line"
   ]
  },
  {
   "cell_type": "markdown",
   "id": "3",
   "metadata": {},
   "source": [
    "2.Train / Test split;  Fourier transform and undersampling, reshaping etc."
   ]
  },
  {
   "cell_type": "code",
   "execution_count": null,
   "id": "4",
   "metadata": {},
   "outputs": [],
   "source": [
    "# I make a very simple split - I leave the last subject as test_set (I use data of 5 subjects)\n",
    "undersampling_factor = 0.05 #set undersampling fraction\n",
    "strategy = \"uniform_complementary\"\n",
    "fixed_radius = 9\n",
    "normalize = True\n",
    "combine = True\n",
    "\n",
    "#grouped_time_steps = 1\n",
    "\n",
    "#### Train_Test_Split ####\n",
    "training_images = combined_data[:,:,:,:,:,:4]  # Method: Leave last MRSI measurement as test set\n",
    "test_images = combined_data[:,:,:,:,:,4]\n",
    "\n",
    "\n",
    "#### Train_Test_Split ####\n",
    "training_images = combined_data[:,:,:,:,:,:4]  # Method: Leave last MRSI measurement as test set\n",
    "test_images = combined_data[:,:,:,:,:,4]\n",
    "\n",
    "#### group time steps, undersample in k-space, prepare NN Input ####\n",
    "training_images, test_images, NN_input_train, NN_input_test, _, _, _ = preprocess_and_undersample(\n",
    "                                                                                        training_images,\n",
    "                                                                                        test_images,\n",
    "                                                                                        grouped_time_steps=grouped_time_steps, \n",
    "                                                                                        undersampling_factor=undersampling_factor,\n",
    "                                                                                        strategy = strategy,\n",
    "                                                                                        fixed_radius=fixed_radius\n",
    "                                                                                    )\n",
    "\n",
    "\n",
    "######\n",
    "\n",
    "#### reshape for pytorch ####\n",
    "train_data = reshape_for_pytorch(NN_input_train,grouped_time_steps)\n",
    "train_labels = reshape_for_pytorch(training_images,grouped_time_steps)\n",
    "\n",
    "test_data = reshape_for_pytorch(NN_input_test,grouped_time_steps)\n",
    "test_labels = reshape_for_pytorch(test_images,grouped_time_steps)\n",
    "\n"
   ]
  },
  {
   "cell_type": "code",
   "execution_count": null,
   "id": "5",
   "metadata": {},
   "outputs": [],
   "source": [
    "NN_input_train.shape"
   ]
  },
  {
   "cell_type": "markdown",
   "id": "6",
   "metadata": {},
   "source": [
    "Load things up..."
   ]
  },
  {
   "cell_type": "code",
   "execution_count": null,
   "id": "7",
   "metadata": {},
   "outputs": [],
   "source": [
    "batch_size=200\n",
    "\n",
    "# Create TensorDataset instances\n",
    "train_dataset = TensorDataset(train_data, train_labels)\n",
    "test_dataset = TensorDataset(test_data, test_labels)\n",
    "\n",
    "# Create DataLoaders\n",
    "train_loader = DataLoader(train_dataset, batch_size=batch_size, shuffle=True)\n",
    "test_loader = DataLoader(test_dataset, batch_size=batch_size, shuffle=False)"
   ]
  },
  {
   "cell_type": "markdown",
   "id": "8",
   "metadata": {},
   "source": [
    "Next I set up the model"
   ]
  },
  {
   "cell_type": "code",
   "execution_count": null,
   "id": "9",
   "metadata": {},
   "outputs": [],
   "source": [
    "device = torch.device('cuda' if torch.cuda.is_available() else 'cpu')\n",
    "\n",
    "num_convs = 3  # Number of convolutional layers\n",
    "model = Naive_CNN_3D(grouped_time_steps=grouped_time_steps, num_convs=num_convs).to(device)\n",
    "\n",
    "print(model)"
   ]
  },
  {
   "cell_type": "code",
   "execution_count": null,
   "id": "10",
   "metadata": {},
   "outputs": [],
   "source": [
    "# this is where the actual training happens. Note that the output is saved into a log-file, for documentation purposes\n",
    "\n",
    "# Open a log file\n",
    "#log_file = open('training_log_not_augmented.txt', 'w')\n",
    "#sys.stdout = log_file  # Redirect standard output to the log file\n",
    "\n",
    "optimizer = optim.Adam(model.parameters(), lr=0.00002)\n",
    "loss_fn = CustomLoss(l1_lambda=0.00000000) # note that the lambda parameter was defined in the automap paper, to additionally encourage spare representations.\n",
    "model = model.to(device)\n",
    "\n",
    "num_epochs = 300  # Number of epochs to train\n",
    "print_every = 10  # Print every 100 epochs\n",
    "\n",
    "# Initialize lists to store loss and MSE values\n",
    "train_mses = []\n",
    "test_mses  = []\n",
    "\n",
    "for epoch in range(num_epochs):\n",
    "    avg_loss_train = train_one_epoch(model, optimizer, loss_fn, train_loader, device=device)\n",
    "    # Compute the test loss after each epoch\n",
    "    avg_loss_test = validate_model(model, loss_fn, test_loader, device=device)\n",
    "    #avg_mse_valid = compute_mse(model, val_loader, device=device)  # Compute MSE for the validation set\n",
    "    \n",
    "    # Store the losses and MSEs\n",
    "    #train_losses.append(avg_loss_train)\n",
    "    #valid_losses.append(avg_loss_valid)\n",
    "    train_mses.append(avg_loss_train)\n",
    "    test_mses.append(avg_loss_test)\n",
    "    \n",
    "    if (epoch + 1) % print_every == 0:\n",
    "        #print(f\"Epoch {epoch+1}/{num_epochs}, Average Loss Training set: {avg_loss_train:.15}\")\n",
    "        #print(f\"Epoch {epoch+1}/{num_epochs}, Average Loss Validation set: {avg_loss_valid:.15}\")\n",
    "        print(f\"Epoch {epoch+1}/{num_epochs}, Average MSE Training set: {avg_loss_train:.15f}\")\n",
    "        print(f\"Epoch {epoch+1}/{num_epochs}, Average Test Loss: {avg_loss_test:.15f}\")    \n",
    "torch.save(model.state_dict(), 'model_state_dict_not_augmented_T_1.pth')\n",
    "\n",
    "# Close the log file\n",
    "#log_file.close()\n",
    "\n",
    "# Reset standard output to console \n",
    "#sys.stdout = sys.__stdout__\n",
    "\n",
    "# Plot the learning curves\n",
    "plt.figure(figsize=(10, 6))\n",
    "\n",
    "# Plot training and test losses\n",
    "plt.plot(range(1, num_epochs + 1), train_mses, label=\"Training Loss (MSE)\")\n",
    "plt.plot(range(1, num_epochs + 1), test_mses, label=\"Test Loss (MSE)\")\n",
    "\n",
    "# Add titles and labels\n",
    "plt.title(\"Learning Curve\")\n",
    "plt.xlabel(\"Epoch\")\n",
    "plt.ylabel(\"Loss (MSE)\")\n",
    "plt.legend()\n",
    "\n",
    "# Show grid and display the plot\n",
    "plt.grid()\n",
    "plt.show()"
   ]
  },
  {
   "cell_type": "code",
   "execution_count": null,
   "id": "11",
   "metadata": {},
   "outputs": [],
   "source": [
    "normalize = False"
   ]
  },
  {
   "cell_type": "markdown",
   "id": "12",
   "metadata": {},
   "source": [
    "Plot some statistics"
   ]
  },
  {
   "cell_type": "code",
   "execution_count": null,
   "id": "13",
   "metadata": {},
   "outputs": [],
   "source": [
    "Model_Outputs_Test_Set, ground_truth, model_input = Process_Model_Output(test_loader, model, device, trancuate_t, 8, grouped_time_steps, abs_test_set = False, denormalization=False, return_input = True)\n",
    "\n",
    "combined_data = np.load('../../data/combined_data_low_rank_15.npy')\n",
    "Ground_Truth = combined_data[..., 4]\n",
    "\n",
    "plot_general_statistics(Model_Outputs_Test_Set, Ground_Truth, trancuate_t)"
   ]
  },
  {
   "cell_type": "code",
   "execution_count": null,
   "id": "14",
   "metadata": {},
   "outputs": [],
   "source": [
    "MSE_time_domain(Model_Outputs_Test_Set, ground_truth, average_over_T = False, normalize = False) / MSE_time_domain(model_input, ground_truth, average_over_T = False, normalize = False)"
   ]
  },
  {
   "cell_type": "markdown",
   "id": "15",
   "metadata": {},
   "source": [
    "Next, I compare the model output of the test set to the groundtruth, for t=0, because this gives the nices pitctures."
   ]
  },
  {
   "cell_type": "code",
   "execution_count": null,
   "id": "16",
   "metadata": {},
   "outputs": [],
   "source": [
    "t= 5\n",
    "T= 7\n",
    "\n",
    "Model_Outputs_Test_Set, ground_truth, model_input = Process_Model_Output(test_loader, model, device, trancuate_t, 8, grouped_time_steps, abs_test_set = False, denormalization=False, return_input = True)\n",
    "\n",
    "print(Model_Outputs_Test_Set.shape)\n",
    "\n",
    "comparison_Plot_3D_vs_Ifft(Model_Outputs_Test_Set, ground_truth, model_input, t, T)"
   ]
  },
  {
   "cell_type": "code",
   "execution_count": null,
   "id": "17",
   "metadata": {},
   "outputs": [],
   "source": [
    "# comparison in spectral domain \n",
    "tf= 50\n",
    "T= 7\n",
    "domain = \"spectral\"\n",
    "\n",
    "Model_Outputs_Test_Set, ground_truth, model_input = Process_Model_Output(test_loader, model, device, trancuate_t, 8, grouped_time_steps, abs_test_set = False, denormalization=False, return_input = True)\n",
    "\n",
    "combined_data = np.load('../../data/combined_data_low_rank_15.npy')\n",
    "ground_truth = combined_data[..., 4]\n",
    "\n",
    "comparison_Plot_3D_vs_Ifft(Model_Outputs_Test_Set, ground_truth, model_input, tf, T, domain=domain)"
   ]
  },
  {
   "cell_type": "code",
   "execution_count": null,
   "id": "18",
   "metadata": {},
   "outputs": [],
   "source": [
    "#### Comparison of spectry for fixed x,y, T\n",
    "x, y, z, T = 4, 10, 10, 7\n",
    "\n",
    "Model_Outputs_Test_Set, ground_truth, model_input = Process_Model_Output(test_loader, model, device, trancuate_t, 8, grouped_time_steps, abs_test_set = False, denormalization=False, return_input = True)\n",
    "\n",
    "Model_Outputs_Test_Set = np.fft.fftshift(np.fft.fft(Model_Outputs_Test_Set, axis=-2), axes=-2)\n",
    "ground_truth = np.fft.fftshift(np.fft.fft(ground_truth, axis=-2), axes=-2)\n",
    "model_input = np.fft.fftshift(np.fft.fft(model_input, axis=-2), axes=-2)\n",
    "\n",
    "plt.plot(np.abs(Model_Outputs_Test_Set[x,y,z,:,T]), label='Model_Output', linestyle='-', linewidth=2)\n",
    "plt.plot(np.abs(ground_truth[x,y,z,:,T]), label='Ground_Truth', linestyle='--', linewidth=2)\n",
    "#plt.plot(np.abs(model_input[x,y,z,:,T]), label='IFFT', linestyle='-.', linewidth=2)\n",
    "\n",
    "# Add labels, legend, and grid\n",
    "plt.title(\"Comparison spectra: ground truth vs model\", fontsize=16)\n",
    "plt.xlabel(\"spectral index\", fontsize=14)\n",
    "plt.ylabel(\"abs\", fontsize=14)\n",
    "plt.legend(fontsize=12)\n",
    "plt.grid(alpha=0.4)\n",
    "\n",
    "# Show the plot\n",
    "plt.tight_layout()\n",
    "plt.show()"
   ]
  },
  {
   "cell_type": "code",
   "execution_count": null,
   "id": "19",
   "metadata": {},
   "outputs": [],
   "source": []
  }
 ],
 "metadata": {
  "kernelspec": {
   "display_name": "Python 3 (ipykernel)",
   "language": "python",
   "name": "python3"
  },
  "language_info": {
   "codemirror_mode": {
    "name": "ipython",
    "version": 3
   },
   "file_extension": ".py",
   "mimetype": "text/x-python",
   "name": "python",
   "nbconvert_exporter": "python",
   "pygments_lexer": "ipython3",
   "version": "3.7.10"
  }
 },
 "nbformat": 4,
 "nbformat_minor": 5
}
