{
 "cells": [
  {
   "cell_type": "markdown",
   "id": "0",
   "metadata": {},
   "source": [
    "In the Data folder file I showed that t>20 basically corresponds to noise. Here I want to check if the network performance improves if I throw out this noise."
   ]
  },
  {
   "cell_type": "code",
   "execution_count": null,
   "id": "1",
   "metadata": {},
   "outputs": [],
   "source": [
    "import os\n",
    "import sys\n",
    "\n",
    "os.environ[\"CUDA_VISIBLE_DEVICES\"]= '1' #, this way I would choose GPU 3 to do the work\n",
    "\n",
    "sys.path.append('../../scripts')\n",
    "sys.path.append('../../models')\n",
    "\n",
    "import torch\n",
    "import numpy as np\n",
    "import time\n",
    "import h5py\n",
    "import matplotlib.pyplot as plt\n",
    "from scipy.ndimage import zoom # for compressing images / only for testing purposes to speed up NN training\n",
    "from scipy.fft import fft2, fftshift\n",
    "from scipy.io import loadmat\n",
    "\n",
    "from data_preparation import *\n",
    "from data_undersampling import *\n",
    "#from interlacer_layer_paper import *\n",
    "from interlacer_layer_modified import *\n",
    "from output_statistics import *\n",
    "\n",
    "from torch.utils.data import DataLoader, Subset\n",
    "import torch.optim as optim\n",
    "import torch.nn as nn\n",
    "\n",
    "from sklearn.model_selection import train_test_split\n",
    "\n",
    "trancuate_t = 15 # set this parameter to control at which time step you stop using the signal\n",
    "\n",
    "grouped_time_steps = 1 # Set how many subsequent time steps you want to give to the network at once. Values allowed: 1, 2, 4, 8 (because it has to divide 8)"
   ]
  },
  {
   "cell_type": "code",
   "execution_count": null,
   "id": "2",
   "metadata": {},
   "outputs": [],
   "source": [
    "nvidia-smi"
   ]
  },
  {
   "cell_type": "markdown",
   "id": "3",
   "metadata": {},
   "source": [
    "1. Loading data"
   ]
  },
  {
   "cell_type": "code",
   "execution_count": null,
   "id": "4",
   "metadata": {},
   "outputs": [],
   "source": [
    "combined_data = np.load('../../data/combined_data_low_rank_15.npy')\n",
    "combined_data = combined_data[:, :, :, :trancuate_t, :, :] # throw out t > 20 in this line"
   ]
  },
  {
   "cell_type": "markdown",
   "id": "5",
   "metadata": {},
   "source": [
    "2.Train / Test split;  Fourier transform and undersampling, normalization etc."
   ]
  },
  {
   "cell_type": "code",
   "execution_count": null,
   "id": "6",
   "metadata": {},
   "outputs": [],
   "source": [
    "# I make a very simple split - I leave the last subject as test_set (I use data of 5 subjects)\n",
    "undersampling_factor = 0.05 #set undersampling fraction\n",
    "undersampling_strategy = \"uniform\"\n",
    "fixed_radius = 9\n",
    "normalize = False\n",
    "\n",
    "#### Train_Test_Split ####\n",
    "training_images = combined_data[:,:,:,:,:,:4]  # Method: Leave last MRSI measurement as test set\n",
    "test_images = combined_data[:,:,:,:,:,4]\n",
    "\n",
    "#### group time steps, undersample in k-space, prepare NN Input, normalize if you want ####\n",
    "training_images, test_images, NN_input_train, NN_input_test, training_undersampled, test_undersampled, abs_test_set = preprocess_and_undersample(\n",
    "                                                                                                                        training_images,\n",
    "                                                                                                                        test_images,\n",
    "                                                                                                                        grouped_time_steps=grouped_time_steps, \n",
    "                                                                                                                        undersampling_factor=undersampling_factor,\n",
    "                                                                                                                        strategy = undersampling_strategy,\n",
    "                                                                                                                        fixed_radius=fixed_radius,\n",
    "                                                                                                                        normalize = normalize\n",
    "                                                                                                                    )\n",
    "#### reshape for pytorch ####\n",
    "train_data = reshape_for_pytorch(NN_input_train,grouped_time_steps)\n",
    "train_labels = reshape_for_pytorch(training_images,grouped_time_steps)\n",
    "\n",
    "test_data = reshape_for_pytorch(NN_input_test,grouped_time_steps)\n",
    "test_labels = reshape_for_pytorch(test_images,grouped_time_steps)\n",
    "\n",
    "# Prepare k-space data (reshape undersampled k-space as well)\n",
    "train_k_space = reshape_for_pytorch(training_undersampled, grouped_time_steps)\n",
    "test_k_space = reshape_for_pytorch(test_undersampled, grouped_time_steps)\n"
   ]
  },
  {
   "cell_type": "code",
   "execution_count": null,
   "id": "7",
   "metadata": {},
   "outputs": [],
   "source": [
    "print(training_images.shape)\n",
    "\n",
    "Time_Step = 1\n",
    "\n",
    "slice_data = training_images[:,:,0,0]\n",
    "absolute_slice = np.abs(slice_data)\n",
    "\n",
    "plt.imshow(absolute_slice, cmap='gray')"
   ]
  },
  {
   "cell_type": "markdown",
   "id": "8",
   "metadata": {},
   "source": [
    "4. Reshaping arrays to prepare for NN training"
   ]
  },
  {
   "cell_type": "markdown",
   "id": "9",
   "metadata": {},
   "source": [
    "Load things up..."
   ]
  },
  {
   "cell_type": "code",
   "execution_count": null,
   "id": "10",
   "metadata": {},
   "outputs": [],
   "source": [
    "batch_size=80\n",
    "\n",
    "# Create TensorDataset instances with the correct arguments\n",
    "train_dataset = TensorDataset_interlacer(\n",
    "    k_space=train_k_space,  # Undersampled k-space input\n",
    "    image_reconstructed=train_data,  # Reconstructed image input\n",
    "    ground_truth=train_labels  # Fully sampled ground truth\n",
    ")\n",
    "\n",
    "test_dataset = TensorDataset_interlacer(\n",
    "    k_space=test_k_space,  # Undersampled k-space input\n",
    "    image_reconstructed=test_data,  # Reconstructed image input\n",
    "    ground_truth=test_labels  # Fully sampled ground truth\n",
    ")\n",
    "\n",
    "# Create DataLoaders\n",
    "train_loader = DataLoader(train_dataset, batch_size=batch_size, shuffle=True)\n",
    "test_loader = DataLoader(test_dataset, batch_size=batch_size, shuffle=False)"
   ]
  },
  {
   "cell_type": "markdown",
   "id": "11",
   "metadata": {},
   "source": [
    "Next I set up the model"
   ]
  },
  {
   "cell_type": "code",
   "execution_count": null,
   "id": "12",
   "metadata": {},
   "outputs": [],
   "source": [
    "# Initialize the device\n",
    "device = torch.device('cuda' if torch.cuda.is_available() else 'cpu')\n",
    "\n",
    "# Set the parameters for the Interlacer model\n",
    "features_img = 64           # Number of features in the image domain\n",
    "features_kspace = 64        # Number of features in the frequency domain\n",
    "kernel_size = 3             # Kernel size for the convolutional layers\n",
    "use_norm = \"None\"      # Normalization type (\"BatchNorm\", \"InstanceNorm\", or \"None\")\n",
    "num_convs = 1               # Number of convolutional layers              # Number of interlacer layers\n",
    "\n",
    "# Instantiate the Interlacer model\n",
    "model = Interlacer_Modified(\n",
    "    features_img=features_img,\n",
    "    features_kspace=features_kspace,\n",
    "    kernel_size=kernel_size,\n",
    "    use_norm=use_norm,\n",
    "    num_convs=num_convs,\n",
    ").to(device)\n",
    "\n",
    "# Example of setting up a DataLoader (uncomment if needed)\n",
    "# data_loader = DataLoader(dataset, batch_size=batch_size, shuffle=True)\n",
    "\n",
    "# Example of loading a pre-trained model state dictionary (uncomment if needed)\n",
    "# state_dict_path = 'path_to_saved_model_state.pth'\n",
    "# model.load_state_dict(torch.load(state_dict_path, map_location=device))\n",
    "\n",
    "# Model is now ready to use\n",
    "#print(model)\n"
   ]
  },
  {
   "cell_type": "code",
   "execution_count": null,
   "id": "13",
   "metadata": {},
   "outputs": [],
   "source": [
    "# this is where the actual training happens. Note that the output is saved into a log-file, for documentation purposes\n",
    "\n",
    "# Open a log file\n",
    "#log_file = open('training_log_not_augmented.txt', 'w')\n",
    "#sys.stdout = log_file  # Redirect standard output to the log file\n",
    "\n",
    "optimizer = optim.Adam(model.parameters(), lr=0.00002)\n",
    "loss_fn = CustomLoss() # note that the lambda parameter was defined in the automap paper, to additionally encourage spare representations.\n",
    "model = model.to(device)\n",
    "\n",
    "num_epochs = 100  # Number of epochs to train\n",
    "print_every = 1  # Print every 100 epochs\n",
    "\n",
    "# Initialize lists to store loss and MSE values\n",
    "train_mses = []\n",
    "test_mses  = []\n",
    "\n",
    "for epoch in range(num_epochs):\n",
    "    avg_loss_train = train_one_epoch(model, optimizer, loss_fn, train_loader, device=device)\n",
    "    # Compute the test loss after each epoch\n",
    "    avg_loss_test = validate_model(model, loss_fn, test_loader, device=device)\n",
    "    #avg_mse_valid = compute_mse(model, val_loader, device=device)  # Compute MSE for the validation set\n",
    "    \n",
    "    # Store the losses and MSEs\n",
    "    #train_losses.append(avg_loss_train)\n",
    "    #valid_losses.append(avg_loss_valid)\n",
    "    train_mses.append(avg_loss_train)\n",
    "    test_mses.append(avg_loss_test)\n",
    "    \n",
    "    if (epoch + 1) % print_every == 0:\n",
    "        #print(f\"Epoch {epoch+1}/{num_epochs}, Average Loss Training set: {avg_loss_train:.15}\")\n",
    "        #print(f\"Epoch {epoch+1}/{num_epochs}, Average Loss Validation set: {avg_loss_valid:.15}\")\n",
    "        print(f\"Epoch {epoch+1}/{num_epochs}, Average MSE Training set: {avg_loss_train:.15f}\")\n",
    "        print(f\"Epoch {epoch+1}/{num_epochs}, Average Test Loss: {avg_loss_test:.15f}\")    \n",
    "torch.save(model.state_dict(), 'model_state_dict_not_augmented_T_1.pth')\n",
    "\n",
    "# Close the log file\n",
    "#log_file.close()\n",
    "\n",
    "# Reset standard output to console \n",
    "#sys.stdout = sys.__stdout__\n",
    "\n",
    "# Plot the learning curves\n",
    "plt.figure(figsize=(10, 6))\n",
    "\n",
    "# Plot training and test losses\n",
    "plt.plot(range(1, num_epochs + 1), train_mses, label=\"Training Loss (MSE)\")\n",
    "plt.plot(range(1, num_epochs + 1), test_mses, label=\"Test Loss (MSE)\")\n",
    "\n",
    "# Add titles and labels\n",
    "plt.title(\"Learning Curve\")\n",
    "plt.xlabel(\"Epoch\")\n",
    "plt.ylabel(\"Loss (MSE)\")\n",
    "plt.legend()\n",
    "\n",
    "# Show grid and display the plot\n",
    "plt.grid()\n",
    "plt.show()"
   ]
  },
  {
   "cell_type": "code",
   "execution_count": null,
   "id": "14",
   "metadata": {},
   "outputs": [],
   "source": [
    "Model_Outputs_Test_Set, _ = Process_Model_Output_deeper(test_loader, model, device, trancuate_t, 8, grouped_time_steps, abs_test_set)\n",
    "\n",
    "combined_data = np.load('../../data/combined_data_low_rank_15.npy')\n",
    "Ground_Truth = combined_data[..., 4]\n",
    "\n",
    "plot_general_statistics(Model_Outputs_Test_Set, Ground_Truth, trancuate_t)"
   ]
  },
  {
   "cell_type": "code",
   "execution_count": null,
   "id": "15",
   "metadata": {},
   "outputs": [],
   "source": [
    "t= 4\n",
    "T= 7\n",
    "\n",
    "Model_Outputs_Test_Set, _ = Process_Model_Output_deeper(test_loader, model, device, trancuate_t, 8, grouped_time_steps, abs_test_set)\n",
    "\n",
    "combined_data = np.load('../../data/combined_data_low_rank_15.npy')\n",
    "Ground_Truth = combined_data[..., 4]\n",
    "\n",
    "comparison_Plot_3D(Model_Outputs_Test_Set, Ground_Truth, t, T)"
   ]
  },
  {
   "cell_type": "code",
   "execution_count": null,
   "id": "16",
   "metadata": {},
   "outputs": [],
   "source": [
    "# comparison in spectral domain \n",
    "tf= 50\n",
    "T= 7\n",
    "domain = \"spectral\"\n",
    "\n",
    "Model_Outputs_Test_Set, _ = Process_Model_Output_deeper(test_loader, model, device, trancuate_t, 8, grouped_time_steps, abs_test_set)\n",
    "combined_data = np.load('../../data/combined_data_low_rank_15.npy')\n",
    "ground_truth = combined_data[..., 4]\n",
    "\n",
    "comparison_Plot_3D(Model_Outputs_Test_Set, ground_truth, tf, T, domain = domain)"
   ]
  },
  {
   "cell_type": "code",
   "execution_count": null,
   "id": "17",
   "metadata": {},
   "outputs": [],
   "source": []
  }
 ],
 "metadata": {
  "kernelspec": {
   "display_name": "Python 3 (ipykernel)",
   "language": "python",
   "name": "python3"
  },
  "language_info": {
   "codemirror_mode": {
    "name": "ipython",
    "version": 3
   },
   "file_extension": ".py",
   "mimetype": "text/x-python",
   "name": "python",
   "nbconvert_exporter": "python",
   "pygments_lexer": "ipython3",
   "version": "3.7.10"
  }
 },
 "nbformat": 4,
 "nbformat_minor": 5
}
