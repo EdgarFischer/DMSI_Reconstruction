{
 "cells": [
  {
   "cell_type": "markdown",
   "id": "152feafe",
   "metadata": {},
   "source": [
    "In this file I start by implementing a compressed sensing reconstruction approach. I want to have a well accepted classical method \n",
    "as a baseline for my later deep learning models."
   ]
  },
  {
   "cell_type": "code",
   "execution_count": 1,
   "id": "5c93969d",
   "metadata": {},
   "outputs": [],
   "source": [
    "import os\n",
    "import sys\n",
    "\n",
    "os.environ[\"CUDA_VISIBLE_DEVICES\"]= '0' #, this way I would choose GPU 3 to do the work\n",
    "\n",
    "sys.path.append('../scripts')\n",
    "sys.path.append('../models')\n",
    "\n",
    "from scipy.io import loadmat\n",
    "import numpy as np\n",
    "import matplotlib.pyplot as plt\n",
    "import plotly.graph_objects as go\n",
    "import torch\n",
    "import numpy as np\n",
    "import matplotlib.pyplot as plt\n",
    "from scipy.ndimage import zoom # for compressing images / only for testing purposes to speed up NN training\n",
    "from torch.utils.data import DataLoader, Subset\n",
    "import torch.optim as optim\n",
    "import torch.nn as nn\n",
    "from data_preparation import *\n",
    "from data_undersampling import *\n",
    "#from Naive_CNN_3D_Residual import *\n",
    "from output_statistics import *\n",
    "import plotly.graph_objects as go"
   ]
  },
  {
   "cell_type": "code",
   "execution_count": 2,
   "id": "61f6f796",
   "metadata": {},
   "outputs": [],
   "source": [
    "#### keep three middle rows, delete every other row after that next time step the opposite\n",
    "\n",
    "ground_truth = np.load('Full_Rank_All.npy')"
   ]
  },
  {
   "cell_type": "code",
   "execution_count": 54,
   "id": "3711526d",
   "metadata": {},
   "outputs": [],
   "source": [
    "def estimate_noise_variance(noise_data):\n",
    "    \"\"\"\n",
    "    Estimate the noise variance from a dataset that contains only noise.\n",
    "\n",
    "    Parameters:\n",
    "    - noise_data (numpy.ndarray): A complex-valued array of noise-only data.\n",
    "\n",
    "    Returns:\n",
    "    - variance_real (float): Estimated variance of the real part.\n",
    "    - variance_imag (float): Estimated variance of the imaginary part.\n",
    "    - total_variance (float): Average variance across real and imaginary components.\n",
    "    \"\"\"\n",
    "    real_part = noise_data.real\n",
    "    imag_part = noise_data.imag\n",
    "\n",
    "    variance_real = np.var(real_part, ddof=1)  # Use ddof=1 for unbiased estimate\n",
    "    variance_imag = np.var(imag_part, ddof=1)\n",
    "\n",
    "    total_variance = (variance_real + variance_imag) / 2  # Mean variance\n",
    "\n",
    "    return variance_real, variance_imag, total_variance"
   ]
  },
  {
   "cell_type": "code",
   "execution_count": 77,
   "id": "52ecfe62",
   "metadata": {},
   "outputs": [
    {
     "name": "stdout",
     "output_type": "stream",
     "text": [
      "11772658.675\n",
      "10966683.491666667\n",
      "11630350.5125\n",
      "10794213.091666667\n",
      "11400789.608333332\n",
      "11372949.8625\n"
     ]
    }
   ],
   "source": [
    "for m in range(0,6):\n",
    "    noise = ground_truth[:,:,:,66:,:,m] # last 30 FID time steps are just noise\n",
    "    noise_variance = []\n",
    "    for i in range(noise.shape[-2]):\n",
    "        for j in range(noise.shape[-1]):\n",
    "            noise_variance.append(estimate_noise_variance(noise[:,:,:,i,j])[-1])\n",
    "    averaged_noise_variance = np.mean(noise_variance)  \n",
    "    print(averaged_noise_variance)"
   ]
  },
  {
   "cell_type": "code",
   "execution_count": null,
   "id": "8738e2f3",
   "metadata": {},
   "outputs": [],
   "source": []
  }
 ],
 "metadata": {
  "kernelspec": {
   "display_name": "Python 3 (ipykernel)",
   "language": "python",
   "name": "python3"
  },
  "language_info": {
   "codemirror_mode": {
    "name": "ipython",
    "version": 3
   },
   "file_extension": ".py",
   "mimetype": "text/x-python",
   "name": "python",
   "nbconvert_exporter": "python",
   "pygments_lexer": "ipython3",
   "version": "3.7.10"
  }
 },
 "nbformat": 4,
 "nbformat_minor": 5
}
