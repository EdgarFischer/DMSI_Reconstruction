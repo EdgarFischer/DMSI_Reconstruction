{
 "cells": [
  {
   "cell_type": "markdown",
   "id": "0",
   "metadata": {},
   "source": [
    "In this file I start by implementing a compressed sensing reconstruction approach. I want to have a well accepted classical method \n",
    "as a baseline for my later deep learning models."
   ]
  },
  {
   "cell_type": "code",
   "execution_count": null,
   "id": "1",
   "metadata": {},
   "outputs": [],
   "source": [
    "import os\n",
    "\n",
    "os.environ[\"CUDA_VISIBLE_DEVICES\"]= '2' #, this way I would choose GPU 3 to do the work\n",
    "\n",
    "from scipy.io import loadmat\n",
    "import numpy as np\n",
    "import matplotlib.pyplot as plt\n",
    "from functions import * \n",
    "from scipy.io import loadmat"
   ]
  },
  {
   "cell_type": "markdown",
   "id": "2",
   "metadata": {},
   "source": [
    "Combining data sets"
   ]
  },
  {
   "cell_type": "code",
   "execution_count": null,
   "id": "3",
   "metadata": {},
   "outputs": [],
   "source": [
    "# Note that the data is stored in csi = chemical shift imaging, I load consistent data of a total of 5 subjects\n",
    "mat_data_1 = loadmat('fn_vb_DMI_CRT_P03/CombinedCSI_low_rank_15.mat')\n",
    "mat_data_2 = loadmat('fn_vb_DMI_CRT_P04/CombinedCSI_low_rank_15.mat')\n",
    "mat_data_3 = loadmat('fn_vb_DMI_CRT_P05/CombinedCSI_low_rank_15.mat')\n",
    "mat_data_4 = loadmat('fn_vb_DMI_CRT_P06/CombinedCSI_low_rank_15.mat')\n",
    "mat_data_5 = loadmat('fn_vb_DMI_CRT_P07/CombinedCSI_low_rank_15.mat')\n",
    "\n",
    "# Inspect the loaded data\n",
    "csi_1 = mat_data_1['csi']\n",
    "csi_2 = mat_data_2['csi']\n",
    "csi_3 = mat_data_3['csi']\n",
    "csi_4 = mat_data_4['csi']\n",
    "csi_5 = mat_data_5['csi']\n",
    "\n",
    "Data_1 = csi_1['Data'][0,0]\n",
    "Data_2 = csi_2['Data'][0,0]\n",
    "Data_3 = csi_3['Data'][0,0]\n",
    "Data_4 = csi_4['Data'][0,0]\n",
    "Data_5 = csi_5['Data'][0,0]\n",
    "\n",
    "combined_data = np.stack((Data_1, Data_2, Data_3, Data_4, Data_5), axis=-1)\n",
    "\n",
    "np.save('combined_data_low_rank_15.npy', combined_data)"
   ]
  },
  {
   "cell_type": "code",
   "execution_count": null,
   "id": "4",
   "metadata": {},
   "outputs": [],
   "source": [
    "combined_data.shape"
   ]
  },
  {
   "cell_type": "code",
   "execution_count": null,
   "id": "5",
   "metadata": {},
   "outputs": [],
   "source": []
  }
 ],
 "metadata": {
  "kernelspec": {
   "display_name": "Python 3 (ipykernel)",
   "language": "python",
   "name": "python3"
  },
  "language_info": {
   "codemirror_mode": {
    "name": "ipython",
    "version": 3
   },
   "file_extension": ".py",
   "mimetype": "text/x-python",
   "name": "python",
   "nbconvert_exporter": "python",
   "pygments_lexer": "ipython3",
   "version": "3.7.10"
  }
 },
 "nbformat": 4,
 "nbformat_minor": 5
}
