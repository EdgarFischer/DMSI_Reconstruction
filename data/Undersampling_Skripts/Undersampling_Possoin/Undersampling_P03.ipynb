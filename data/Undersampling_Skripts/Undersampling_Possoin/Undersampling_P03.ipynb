{
 "cells": [
  {
   "cell_type": "markdown",
   "id": "95d7511f",
   "metadata": {},
   "source": [
    "P03 needs special treatment, because it has 44 rings instead of 43 (everybody else)"
   ]
  },
  {
   "cell_type": "code",
   "execution_count": null,
   "id": "a0a163b7",
   "metadata": {},
   "outputs": [],
   "source": [
    "def flatten_arrays_to_lists(item):\n",
    "    # If it's a NumPy array, flatten to 1D and convert to list\n",
    "    if isinstance(item, np.ndarray):\n",
    "        return item.flatten().tolist()\n",
    "    # If it's a list, apply this function to each element\n",
    "    elif isinstance(item, list):\n",
    "        return [flatten_arrays_to_lists(x) for x in item]\n",
    "    # If it's a dictionary, apply this function to each value\n",
    "    elif isinstance(item, dict):\n",
    "        return {k: flatten_arrays_to_lists(v) for k, v in item.items()}\n",
    "    # Otherwise (int, float, str, etc.), leave as-is\n",
    "    else:\n",
    "        return item"
   ]
  },
  {
   "cell_type": "code",
   "execution_count": 2,
   "id": "844ecd7a",
   "metadata": {},
   "outputs": [],
   "source": [
    "import sys\n",
    "import os\n",
    "\n",
    "sys.path.append('../../../scripts')\n",
    "sys.path.append('../../../models')\n",
    "\n",
    "import copy\n",
    "os.environ[\"CUDA_VISIBLE_DEVICES\"]= '2' #, this way I would choose GPU 3 to do the work\n",
    "\n",
    "from scipy.io import loadmat\n",
    "import numpy as np\n",
    "import matplotlib.pyplot as plt\n",
    "\n",
    "os.environ[\"CUDA_VISIBLE_DEVICES\"]= '0' #, this way I would choose GPU 3 to do the work\n",
    "\n",
    "import torch\n",
    "import numpy as np\n",
    "import time\n",
    "import h5py\n",
    "import matplotlib.pyplot as plt\n",
    "from scipy.ndimage import zoom # for compressing images / only for testing purposes to speed up NN training\n",
    "from scipy.fft import fft2, fftshift\n",
    "from scipy.io import loadmat\n",
    "from torch.utils.data import DataLoader, Subset\n",
    "import torch.optim as optim\n",
    "import torch.nn as nn\n",
    "from scipy.io import loadmat\n",
    "import random\n",
    "\n",
    "from data_preparation import *\n",
    "import plotly.graph_objects as gorings\n",
    "import scipy.io as sio\n",
    "\n",
    "\n",
    "AF = 8 # set acceleration factor"
   ]
  },
  {
   "cell_type": "code",
   "execution_count": 3,
   "id": "2f3859c7",
   "metadata": {},
   "outputs": [],
   "source": [
    "# mat_data_8 = loadmat('Undersampled_P03_AF5_complement.mat')\n",
    "# csi_data = mat_data_8['csi']\n",
    "# Data = csi_data['Data'][0,0]\n",
    "# Data.shape"
   ]
  },
  {
   "cell_type": "code",
   "execution_count": 4,
   "id": "afa7541e",
   "metadata": {},
   "outputs": [],
   "source": [
    "# mat_data_82 = loadmat('Undersampled_P03_AF5.mat')\n",
    "# csi_data2 = mat_data_82['csi']\n",
    "# Data2 = csi_data2['Data'][0,0]\n",
    "# Data2.shape"
   ]
  },
  {
   "cell_type": "code",
   "execution_count": 5,
   "id": "3340aeec",
   "metadata": {},
   "outputs": [],
   "source": [
    "# for i in range(0,8):\n",
    "#     print(np.sqrt(np.sum(np.abs(Data[...,i])**2)/np.sum(np.abs(Data2[...,i])**2)))"
   ]
  },
  {
   "cell_type": "code",
   "execution_count": 6,
   "id": "58e1cbd5",
   "metadata": {},
   "outputs": [],
   "source": [
    "# z, t, T = 10, 2, 7\n",
    "\n",
    "# SLICE_1 = Data[:,:,z,t,T]\n",
    "# SLICE_2 = Data2[:,:,z,t,T]\n",
    "\n",
    "# SLICE = np.abs(SLICE_1+SLICE_2)\n",
    "\n",
    "# plt.imshow(SLICE)\n",
    "# plt.colorbar()  # This adds the scale (colorbar) to the plot\n",
    "# plt.show()"
   ]
  },
  {
   "cell_type": "markdown",
   "id": "7ddaa18b",
   "metadata": {},
   "source": [
    "In the code below, I compute exactly how much percent of k-space is sampled at which k_z position"
   ]
  },
  {
   "cell_type": "code",
   "execution_count": 7,
   "id": "b60d59a5",
   "metadata": {},
   "outputs": [
    {
     "name": "stderr",
     "output_type": "stream",
     "text": [
      "No handles with labels found to put in legend.\n"
     ]
    },
    {
     "data": {
      "image/png": "[encoded data removed]",
      "text/plain": [
       "<Figure size 432x288 with 1 Axes>"
      ]
     },
     "metadata": {
      "needs_background": "light"
     },
     "output_type": "display_data"
    }
   ],
   "source": [
    "mat_data_8 = loadmat('../../fn_vb_DMI_CRT_P03/CombinedCSI_full_rank.mat')\n",
    "csi_data = mat_data_8['csi']\n",
    "Data = csi_data['Data'][0,0]\n",
    "\n",
    "Par = csi_data['Par'][0,0]\n",
    "\n",
    "Circles_Per_kz_Matrix = Par['AngIntsPerPartEnc'][0,0]\n",
    "\n",
    "number_of_rings = Circles_Per_kz_Matrix.shape[1]\n",
    "number_of_kz = Circles_Per_kz_Matrix.shape[0]\n",
    "\n",
    "Circles_Per_kz = np.zeros(number_of_kz)\n",
    "\n",
    "for i in range(0,number_of_kz):\n",
    "    Circles_Per_kz[i] = np.sum(Circles_Per_kz_Matrix[i])\n",
    "\n",
    "Percentage_Per_kz = 100*Circles_Per_kz / np.sum(Circles_Per_kz)\n",
    "\n",
    "plt.plot(Percentage_Per_kz)\n",
    "\n",
    "# Add labels and title\n",
    "plt.xlabel(\"k_z Position\")\n",
    "plt.ylabel(\"Percentage of k-space\")\n",
    "\n",
    "# Add a legend\n",
    "plt.legend()\n",
    "\n",
    "# Show the plot\n",
    "plt.show()"
   ]
  },
  {
   "cell_type": "markdown",
   "id": "043a7eaa",
   "metadata": {},
   "source": [
    "Compute how many central planes amount to ~20% of the data"
   ]
  },
  {
   "cell_type": "code",
   "execution_count": 8,
   "id": "fe611055",
   "metadata": {},
   "outputs": [],
   "source": [
    "#### Next I want to undersample in a complementary fashion. I generate a pool that has all indices that are not sampled \n",
    "#### except for ones that are always kept across time steps. \n",
    "\n",
    "def pool(kept_Indices, Number_Circles):\n",
    "    all_indices = np.arange(Number_Circles)  # Generate array [0, 1, ..., Number_Circles-1]\n",
    "    return np.delete(all_indices, kept_Indices)  # Remove indices in kept_Indices"
   ]
  },
  {
   "cell_type": "markdown",
   "id": "3371811a",
   "metadata": {},
   "source": [
    "**Reshaping**\n",
    "\n",
    "The above code accomplishes that I have the complete k_space mask information in the format (k_z, T). If Mask[i,j] = 1, it means k_z position can be sampled at timestep T, otherwise not. However, in Matlab the data is saved is saved as csi.Data with the following format:\n",
    "\n",
    "size(csi.Data) = 1 43; a list of 43 entries, one for each RING. Then size(csi.Data{i}) = 526 1 N 1 96 1 8; where N is the number of k_z partitions this ring appears in. Unfortunately, N is not directly the k_z index, but rather N = 1 corresponds to the smallest k_z index that has been measured etc. So what I want is this:\n",
    "\n",
    "**Goal:**\n",
    "\n",
    "I create a dictionary structure \"ring_sampling\" that mirrors the matlabl structure. So ring_sampling[i] is a list of list for ring i.\n",
    "The outer list has 8 elements, for the 8 time steps, then each of these 8 inner lists has the indices that should be sampled."
   ]
  },
  {
   "cell_type": "markdown",
   "id": "927992de",
   "metadata": {},
   "source": [
    "**First step**\n",
    "\n",
    "Create a matrix with the matlab indices for each Ring. I accomplish this by using the matrix Circles_Per_kz_Matrix which is 1 at index i,j if the ith kz position was measured by ring j, and 0 else. I multiply this matrix by a matrix of shape 43x43 point wise (same shape) which has 1 in the first row 2 in the second row etc. It is important to note that the k_z positions are counted beginning from 1 not 0."
   ]
  },
  {
   "cell_type": "code",
   "execution_count": 9,
   "id": "26a8f6b2",
   "metadata": {},
   "outputs": [
    {
     "name": "stdout",
     "output_type": "stream",
     "text": [
      "[ 0  0  0  0  0  0  0  0  0  0  0  0  0  0  0 16 17 18 19 20 21 22 23 24\n",
      " 25 26 27 28  0  0  0  0  0  0  0  0  0  0  0  0  0  0  0]\n"
     ]
    }
   ],
   "source": [
    "Circles_Per_kz_Matrix[0,0]\n",
    "\n",
    "# Create a column vector of row numbers (starting from 1)\n",
    "n=number_of_kz\n",
    "row_numbers = np.arange(1, n + 1).reshape(n, 1)\n",
    "matrix = np.tile(row_numbers, (1, number_of_rings))\n",
    "matrix_inverse = 1 / matrix\n",
    "\n",
    "Sampled_Indices_Per_Ring = matrix * Circles_Per_kz_Matrix\n",
    "\n",
    "print(Sampled_Indices_Per_Ring[:,42])\n",
    "\n",
    "#Sampled_Indices_Per_Ring: This means e.g. Sampled_Indices_Per_Ring[:,0] gives all the k_z indizes (sstartng from 1 not 0 (!)) that have been sampled by Ring 0 etc."
   ]
  },
  {
   "cell_type": "markdown",
   "id": "ad33e79d",
   "metadata": {},
   "source": [
    "In here I save the minimum k_z positions that has been sampled per ring, again this starts at k_z = 0"
   ]
  },
  {
   "cell_type": "code",
   "execution_count": 10,
   "id": "1f60d072",
   "metadata": {},
   "outputs": [],
   "source": [
    "\n",
    "Minimum_kz_position = np.zeros(number_of_rings)\n",
    "\n",
    "for i in range(0,number_of_rings):\n",
    "    Sampled_kz_ring_i = Sampled_Indices_Per_Ring[:,i]\n",
    "    first_nonzero = next((x for x in Sampled_kz_ring_i if x != 0), None)\n",
    "    Minimum_kz_position[i] = first_nonzero -1 #start at 0 not at 1"
   ]
  },
  {
   "cell_type": "code",
   "execution_count": 11,
   "id": "4c9eef43",
   "metadata": {},
   "outputs": [
    {
     "data": {
      "text/plain": [
       "array([ 0.,  0.,  1.,  1.,  1.,  1.,  1.,  1.,  1.,  1.,  1.,  1.,  1.,\n",
       "        1.,  2.,  2.,  2.,  2.,  2.,  3.,  3.,  3.,  3.,  4.,  4.,  4.,\n",
       "        5.,  5.,  5.,  6.,  6.,  7.,  7.,  8.,  8.,  9.,  9., 10., 11.,\n",
       "       12., 13., 14., 15., 17.])"
      ]
     },
     "execution_count": 11,
     "metadata": {},
     "output_type": "execute_result"
    }
   ],
   "source": [
    "Minimum_kz_position"
   ]
  },
  {
   "cell_type": "markdown",
   "id": "f35cf2be",
   "metadata": {},
   "source": [
    "# ***Creating apropritate data structure***\n",
    "\n",
    "Now I want to start to assemble which rings have actually been sampled. First I create a dictionary, containing 43 elements (rings) each containing a list of list (upper list 8 time steps, and then a list for what has been sampled at that time step by that ring). This is the format in which it is saved in matlab."
   ]
  },
  {
   "cell_type": "code",
   "execution_count": 12,
   "id": "4414a91e",
   "metadata": {},
   "outputs": [
    {
     "name": "stdout",
     "output_type": "stream",
     "text": [
      "File csiUndersampled_AF8_P03.mat does not exist.\n"
     ]
    }
   ],
   "source": [
    "num_rings = number_of_rings\n",
    "num_time_steps = 8\n",
    "\n",
    "# Create a dictionary to hold the sampling info for each ring.\n",
    "# Keys are ring numbers (here, 0-indexed; you can adjust to 1-indexed if you prefer).\n",
    "# Each value is a list of length num_time_steps, where each element is a list of indices\n",
    "# for that ring that are sampled at that time step.\n",
    "ring_sampling = {}\n",
    "\n",
    "for ring in range(num_rings):\n",
    "    # For each ring, initialize an empty list for each time step.\n",
    "    ring_sampling[ring] = [[] for _ in range(num_time_steps)]\n",
    "    \n",
    "ring_undersampling = copy.deepcopy(ring_sampling)\n",
    "# Example: suppose for ring 0 at time step 0 we sampled indices [1, 3, 5]\n",
    "# Define the file name\n",
    "filename = f\"csiUndersampled_AF{AF}_P03.mat\"\n",
    "\n",
    "# Check if the file exists\n",
    "if os.path.isfile(filename):\n",
    "    helper = loadmat(filename)['csiUS'][0][0][0][0]\n",
    "    \n",
    "    for ring in range(43):\n",
    "        if len(helper[ring]) > 0:\n",
    "            for T in range(8):\n",
    "                if len(helper[ring][0]) > T:\n",
    "                    if len(helper[ring][0][T]) > 0:\n",
    "                        ring_undersampling[ring][T] = helper[ring][0][T][0]\n",
    "                    else:\n",
    "                        print(f\"Empty list at helper[{ring}][0][{T}]\")\n",
    "                else:\n",
    "                    print(f\"Index T={T} is out of bounds for helper[{ring}][0]\")\n",
    "        else:\n",
    "            print(f\"Empty list at helper[{ring}]\")\n",
    "    for ring in range(0,43): ## this loop converts everything back to the original python format, note that matlab saved this is a different format\n",
    "        for T in range(0,8):\n",
    "            ring_undersampling[ring][T] = ring_undersampling[ring][T] + (np.ones((len(ring_undersampling[ring][T])))*Minimum_kz_position[ring])\n",
    "            \n",
    "    ring_undersampling = flatten_arrays_to_lists(ring_undersampling)\n",
    "else:\n",
    "    print(f\"File {filename} does not exist.\")\n",
    "filename = f\"csiUndersampled_AF{AF}_P03.mat\"    "
   ]
  },
  {
   "cell_type": "markdown",
   "id": "6edcf89f",
   "metadata": {},
   "source": [
    "Next, I actually save something to that structure. I start with the fully sampled case."
   ]
  },
  {
   "cell_type": "code",
   "execution_count": 13,
   "id": "40de46b3",
   "metadata": {},
   "outputs": [],
   "source": [
    "for ring in range(0,number_of_rings):\n",
    "    for T in range(0,8):\n",
    "        ring_sampling[ring][T] = np.array([x for x in Sampled_Indices_Per_Ring[:,ring] if x !=0]).reshape(-1)"
   ]
  },
  {
   "cell_type": "code",
   "execution_count": 14,
   "id": "d04e36b2",
   "metadata": {},
   "outputs": [
    {
     "data": {
      "text/plain": [
       "0.0"
      ]
     },
     "execution_count": 14,
     "metadata": {},
     "output_type": "execute_result"
    }
   ],
   "source": [
    "def percentage_k_space(array, T):\n",
    "    count = 0\n",
    "    for i in range(0,number_of_rings):\n",
    "        count = count + len(array[i][T])\n",
    "        \n",
    "    return 100*(count/1466) #note that 1437 rings had been measured\n",
    "\n",
    "percentage_k_space(ring_undersampling, 0)"
   ]
  },
  {
   "cell_type": "code",
   "execution_count": 15,
   "id": "43038fc8",
   "metadata": {},
   "outputs": [
    {
     "name": "stdout",
     "output_type": "stream",
     "text": [
      "12.551159618008187\n",
      "12.551159618008187\n",
      "12.551159618008187\n",
      "12.551159618008187\n",
      "12.551159618008187\n",
      "12.551159618008187\n",
      "12.551159618008187\n",
      "12.551159618008187\n"
     ]
    }
   ],
   "source": [
    "import numpy as np\n",
    "\n",
    "def sample_candidate(r_max, num_rings, kz_min, kz_max, r_min = 0):\n",
    "    \"\"\"\n",
    "    Sample a candidate (ring, k_z) pair based on polar coordinates.\n",
    "    \n",
    "    Parameters:\n",
    "      r_max    : maximum 3D distance from center (tunable based on k-space extent)\n",
    "      num_rings: total number of rings (e.g., 43)\n",
    "      kz_min   : minimum k_z index value (e.g., 0)\n",
    "      kz_max   : maximum k_z index value (e.g., maximum index available per ring)\n",
    "      \n",
    "    Returns:\n",
    "      candidate_ring: integer ring index in [0, num_rings-1]\n",
    "      candidate_kz  : integer k_z index in [kz_min, kz_max]\n",
    "    \"\"\"\n",
    "    # Randomly choose r and theta:\n",
    "    r = np.random.uniform(r_min, r_max)\n",
    "    theta = np.random.uniform(-np.pi/2, np.pi/2)\n",
    "    \n",
    "    # Compute candidate values:\n",
    "    # Note: cos(theta) is always positive in [-pi/2, pi/2], so candidate_ring is nonnegative.\n",
    "    candidate_ring_float = r * np.cos(theta)\n",
    "    candidate_kz_float = r * np.sin(theta)/2 # divided by 2 is not an error, this way k_z goes from - kmax/2 to k_max/2, the way it should be\n",
    "    \n",
    "    # Round to nearest integer.\n",
    "    candidate_ring = int(np.round(candidate_ring_float))\n",
    "    candidate_kz = int(np.round(candidate_kz_float))\n",
    "    \n",
    "    # For the ring index, we assume the center corresponds to ring 0.\n",
    "    # If your rings are defined from 0 to num_rings-1 (with 0 being the center),\n",
    "    # you may leave candidate_ring as is. Otherwise, shift accordingly.\n",
    "    # Here, we simply bound it to valid indices.\n",
    "    candidate_ring = max(0, min(candidate_ring, num_rings - 1))\n",
    "    \n",
    "    # For k_z, assume that k_z = 0 is at the center.\n",
    "    # Shift candidate_kz so that the center index is at (kz_min + kz_max)/2.\n",
    "    kz_center = (kz_min + kz_max) / 2\n",
    "    candidate_kz += int(np.round(kz_center))\n",
    "    candidate_kz = max(kz_min, min(candidate_kz, kz_max))\n",
    "    \n",
    "    return candidate_ring, candidate_kz\n",
    "\n",
    "# --- Example usage in an undersampling loop ---\n",
    "\n",
    "# Parameters (tune these based on your k-space geometry)\n",
    "num_rings = 44\n",
    "r_max = 44              # maximum \"3D distance\" (adjust as appropriate)\n",
    "kz_min = 1               # lowest k_z index\n",
    "kz_max = 43             # highest k_z index for a given ring (example)\n",
    "\n",
    "# Suppose you have structures 'ring_sampling' and 'ring_undersampling'\n",
    "# For this example, assume ring_sampling[ring][T] is a list of available k_z indices\n",
    "# for ring (and time point T), and ring_undersampling holds the ones already sampled.\n",
    "# Also assume you have a function percentage_k_space(undersampling, T) that returns the\n",
    "# percentage of k-space sampled for time T.\n",
    "\n",
    "num_timepoints = 8\n",
    "target_percentage = 100*(1/AF)  # e.g., 50%\n",
    "\n",
    "for T in range(num_timepoints):\n",
    "    # Continue sampling until your target percentage is reached.\n",
    "    while percentage_k_space(ring_undersampling, T) < target_percentage:\n",
    "        # Sample a candidate (ring, k_z) pair\n",
    "        cand_ring, cand_kz = sample_candidate(r_max, num_rings, kz_min, kz_max)\n",
    "        \n",
    "        # Check if this candidate exists in your ring_sampling structure and\n",
    "        # hasn't been selected yet.\n",
    "        if cand_kz in ring_sampling[cand_ring][T]:\n",
    "            if cand_kz not in ring_undersampling[cand_ring][T]:\n",
    "                ring_undersampling[cand_ring][T].append(cand_kz)\n",
    "                ring_undersampling[cand_ring][T].sort()\n",
    "\n",
    "import numpy as np\n",
    "\n",
    "\n",
    "# Ensure all entries in ring_undersampling are column vectors\n",
    "for T in range(num_timepoints):\n",
    "    for k in range(num_rings):  # No need to explicitly write (0,43)\n",
    "        if isinstance(ring_undersampling[k][T], list):  \n",
    "            # Convert lists to NumPy arrays first\n",
    "            ring_undersampling[k][T] = np.array(ring_undersampling[k][T])\n",
    "\n",
    "        if ring_undersampling[k][T].ndim == 1:  # Ensure it's a 1D array before reshaping\n",
    "            ring_undersampling[k][T] = ring_undersampling[k][T].reshape(-1) # Column vector\n",
    "            \n",
    "for T in range(0,8):\n",
    "    print(percentage_k_space(ring_undersampling, T))"
   ]
  },
  {
   "cell_type": "code",
   "execution_count": 16,
   "id": "673f0fc2",
   "metadata": {},
   "outputs": [],
   "source": [
    "ring_undersampling_final_format = copy.deepcopy(ring_undersampling)\n",
    "\n",
    "for ring in range(0,43):\n",
    "    for T in range(0,8):\n",
    "        ring_undersampling_final_format[ring][T] = ring_undersampling_final_format[ring][T] - (np.ones((len(ring_undersampling_final_format[ring][T])))*Minimum_kz_position[ring])"
   ]
  },
  {
   "cell_type": "markdown",
   "id": "57af6d28",
   "metadata": {},
   "source": [
    "# ***Save to matlab file***"
   ]
  },
  {
   "cell_type": "code",
   "execution_count": 17,
   "id": "3f5975b0",
   "metadata": {},
   "outputs": [],
   "source": [
    "num_rings = number_of_rings\n",
    "\n",
    "# Assuming ring_undersampling_final_format is a dictionary with keys 0, 1, ..., 42,\n",
    "# where each ring_undersampling_final_format[ring] is a list (of 8 time steps) containing the sampled indices for that ring.\n",
    "# Create an empty NumPy object array with shape (1, num_rings)\n",
    "data_array = np.empty((1, num_rings), dtype=object)\n",
    "\n",
    "# Fill the array with your data from each ring\n",
    "for ring in range(num_rings):\n",
    "    data_array[0, ring] = np.array(ring_undersampling_final_format[ring], dtype=object)\n",
    "\n",
    "# Create a structure similar to your MATLAB structure, e.g., csi.Data\n",
    "csiUndersampled = {'Data': data_array}\n",
    "\n",
    "import os\n",
    "import scipy.io as sio\n",
    "\n",
    "filename = f'csiUndersampled_AF{AF}_P03.mat'\n",
    "if not os.path.exists(filename):\n",
    "    sio.savemat(filename, {'csiUS': csiUndersampled})"
   ]
  },
  {
   "cell_type": "code",
   "execution_count": 18,
   "id": "45b1c626",
   "metadata": {},
   "outputs": [
    {
     "data": {
      "text/plain": [
       "array([ 2.,  5.,  9., 19., 21., 22., 23., 25., 27.])"
      ]
     },
     "execution_count": 18,
     "metadata": {},
     "output_type": "execute_result"
    }
   ],
   "source": [
    "csiUndersampled['Data'][0,2][0]"
   ]
  },
  {
   "cell_type": "code",
   "execution_count": 19,
   "id": "3a31fca9",
   "metadata": {},
   "outputs": [
    {
     "data": {
      "text/plain": [
       "array([ 1.,  4.,  8., 13., 31.])"
      ]
     },
     "execution_count": 19,
     "metadata": {},
     "output_type": "execute_result"
    }
   ],
   "source": [
    "csiUndersampled['Data'][0,20][2]"
   ]
  },
  {
   "cell_type": "markdown",
   "id": "b3022218",
   "metadata": {},
   "source": [
    "**Reconstruction k-z Positions of Rings**"
   ]
  },
  {
   "cell_type": "code",
   "execution_count": 20,
   "id": "0737c7e6",
   "metadata": {},
   "outputs": [
    {
     "data": {
      "text/plain": [
       "array([array([[526,   1,  43,   1,  96,   1,   8]], dtype=uint16),\n",
       "       array([[526,   1,  43,   1,  96,   1,   8]], dtype=uint16),\n",
       "       array([[526,   1,  41,   1,  96,   1,   8]], dtype=uint16),\n",
       "       array([[526,   1,  41,   1,  96,   1,   8]], dtype=uint16),\n",
       "       array([[526,   1,  41,   1,  96,   1,   8]], dtype=uint16),\n",
       "       array([[526,   1,  41,   1,  96,   1,   8]], dtype=uint16),\n",
       "       array([[526,   1,  41,   1,  96,   1,   8]], dtype=uint16),\n",
       "       array([[526,   1,  41,   1,  96,   1,   8]], dtype=uint16),\n",
       "       array([[526,   1,  41,   1,  96,   1,   8]], dtype=uint16),\n",
       "       array([[526,   1,  41,   1,  96,   1,   8]], dtype=uint16),\n",
       "       array([[526,   1,  41,   1,  96,   1,   8]], dtype=uint16),\n",
       "       array([[526,   1,  41,   1,  96,   1,   8]], dtype=uint16),\n",
       "       array([[526,   1,  41,   1,  96,   1,   8]], dtype=uint16),\n",
       "       array([[526,   1,  41,   1,  96,   1,   8]], dtype=uint16),\n",
       "       array([[526,   1,  39,   1,  96,   1,   8]], dtype=uint16),\n",
       "       array([[526,   1,  39,   1,  96,   1,   8]], dtype=uint16),\n",
       "       array([[526,   1,  39,   1,  96,   1,   8]], dtype=uint16),\n",
       "       array([[526,   1,  39,   1,  96,   1,   8]], dtype=uint16),\n",
       "       array([[526,   1,  39,   1,  96,   1,   8]], dtype=uint16),\n",
       "       array([[526,   1,  37,   1,  96,   1,   8]], dtype=uint16),\n",
       "       array([[526,   1,  37,   1,  96,   1,   8]], dtype=uint16),\n",
       "       array([[526,   1,  37,   1,  96,   1,   8]], dtype=uint16),\n",
       "       array([[526,   1,  37,   1,  96,   1,   8]], dtype=uint16),\n",
       "       array([[526,   1,  35,   1,  96,   1,   8]], dtype=uint16),\n",
       "       array([[526,   1,  35,   1,  96,   1,   8]], dtype=uint16),\n",
       "       array([[526,   1,  35,   1,  96,   1,   8]], dtype=uint16),\n",
       "       array([[526,   1,  33,   1,  96,   1,   8]], dtype=uint16),\n",
       "       array([[526,   1,  33,   1,  96,   1,   8]], dtype=uint16),\n",
       "       array([[526,   1,  31,   1,  96,   1,   8]], dtype=uint16),\n",
       "       array([[526,   1,  31,   1,  96,   1,   8]], dtype=uint16),\n",
       "       array([[526,   1,  31,   1,  96,   1,   8]], dtype=uint16),\n",
       "       array([[526,   1,  29,   1,  96,   1,   8]], dtype=uint16),\n",
       "       array([[526,   1,  29,   1,  96,   1,   8]], dtype=uint16),\n",
       "       array([[526,   1,  27,   1,  96,   1,   8]], dtype=uint16),\n",
       "       array([[526,   1,  25,   1,  96,   1,   8]], dtype=uint16),\n",
       "       array([[526,   1,  25,   1,  96,   1,   8]], dtype=uint16),\n",
       "       array([[526,   1,  23,   1,  96,   1,   8]], dtype=uint16),\n",
       "       array([[526,   1,  21,   1,  96,   1,   8]], dtype=uint16),\n",
       "       array([[526,   1,  19,   1,  96,   1,   8]], dtype=uint16),\n",
       "       array([[526,   1,  17,   1,  96,   1,   8]], dtype=uint16),\n",
       "       array([[526,   1,  15,   1,  96,   1,   8]], dtype=uint16),\n",
       "       array([[526,   1,  13,   1,  96,   1,   8]], dtype=uint16),\n",
       "       array([[526,   1,   9,   1,  96,   1,   8]], dtype=uint16)],\n",
       "      dtype=object)"
      ]
     },
     "execution_count": 20,
     "metadata": {},
     "output_type": "execute_result"
    }
   ],
   "source": [
    "mat_data_4 = loadmat('../../fn_vb_DMI_CRT_P04/CombinedCSI_full_rank.mat')\n",
    "csi_data = mat_data_4['csi']\n",
    "par_data = csi_data['Par'][0,0]\n",
    "Data_Size = par_data['DataSize'][0][0][0]\n",
    "Data_Size"
   ]
  },
  {
   "cell_type": "markdown",
   "id": "5cf7a42b",
   "metadata": {},
   "source": [
    "# ***Visualize undersampling pattern***"
   ]
  },
  {
   "cell_type": "code",
   "execution_count": 21,
   "id": "1bf82425",
   "metadata": {},
   "outputs": [
    {
     "data": {
      "image/png": "[encoded data removed]",
      "text/plain": [
       "<Figure size 1152x576 with 8 Axes>"
      ]
     },
     "metadata": {
      "needs_background": "light"
     },
     "output_type": "display_data"
    }
   ],
   "source": [
    "import numpy as np\n",
    "import scipy.io as sio  # if you want to save the result for Matlab\n",
    "\n",
    "# Create a 43x43x8 array filled with zeros\n",
    "A = np.zeros((43, 43, 8), dtype=int)\n",
    "\n",
    "# Loop through each ring (key) in the dictionary\n",
    "for i in range(0, 43):          # Keys are 1-indexed: 1 to 43\n",
    "    for t in range(8):          # There are 8 timesteps (0-indexed in Python)\n",
    "        # For each sampled ring index j at time t, mark it in the array.\n",
    "        for j in ring_undersampling[i][t]:\n",
    "            A[i, int(j)-1, t] = 1  # Subtract 1 to convert to Python's 0-indexing\n",
    "\n",
    "# Optionally, if you want to save the array to a .mat file for Matlab:\n",
    "\n",
    "import matplotlib.pyplot as plt\n",
    "\n",
    "# Create a figure with 2 rows and 4 columns\n",
    "fig, axes = plt.subplots(nrows=2, ncols=4, figsize=(16, 8))\n",
    "axes = axes.flatten()  # Flatten the array for easier iteration\n",
    "\n",
    "# Loop over the 8 timesteps and plot the corresponding transposed 43x43 data\n",
    "for t in range(8):\n",
    "    ax = axes[t]\n",
    "    # Transpose the 43x43 slice to swap the first two axes and set origin to lower left\n",
    "    im = ax.imshow(A[:, :, t].T, origin='lower', cmap='viridis', interpolation='none', aspect='auto')\n",
    "    \n",
    "    # Set the title and labels\n",
    "    ax.set_title(f\"sampled rings at T = {t}\")\n",
    "    ax.set_xlabel(\"Ring index\")\n",
    "    ax.set_ylabel(\"k_z index\")\n",
    "    \n",
    "    # Optionally, add a colorbar for reference\n",
    "    #fig.colorbar(im, ax=ax, shrink=0.7)\n",
    "\n",
    "# Adjust layout for better spacing\n",
    "plt.tight_layout()\n",
    "plt.show()"
   ]
  },
  {
   "cell_type": "code",
   "execution_count": 22,
   "id": "49893578",
   "metadata": {},
   "outputs": [
    {
     "name": "stdout",
     "output_type": "stream",
     "text": [
      "Total Number of Rings\n",
      "1437\n",
      "Total Number of k-Space points\n",
      "755862\n"
     ]
    }
   ],
   "source": [
    "Number_Of_Rings = 0\n",
    "for i in range(0,43):\n",
    "    Number_Of_Rings = Number_Of_Rings +Data_Size[i][0][2]\n",
    "print('Total Number of Rings')\n",
    "print(Number_Of_Rings)\n",
    "\n",
    "print('Total Number of k-Space points')\n",
    "print(Number_Of_Rings*526)"
   ]
  },
  {
   "cell_type": "code",
   "execution_count": 23,
   "id": "442f840b",
   "metadata": {},
   "outputs": [
    {
     "data": {
      "text/plain": [
       "172"
      ]
     },
     "execution_count": 23,
     "metadata": {},
     "output_type": "execute_result"
    }
   ],
   "source": [
    "43*4"
   ]
  },
  {
   "cell_type": "code",
   "execution_count": 24,
   "id": "7ec298be",
   "metadata": {},
   "outputs": [
    {
     "data": {
      "text/plain": [
       "0.11969380654140571"
      ]
     },
     "execution_count": 24,
     "metadata": {},
     "output_type": "execute_result"
    }
   ],
   "source": [
    "172/(1437)"
   ]
  },
  {
   "cell_type": "code",
   "execution_count": null,
   "id": "3ac95490",
   "metadata": {},
   "outputs": [],
   "source": []
  }
 ],
 "metadata": {
  "kernelspec": {
   "display_name": "Python 3 (ipykernel)",
   "language": "python",
   "name": "python3"
  },
  "language_info": {
   "codemirror_mode": {
    "name": "ipython",
    "version": 3
   },
   "file_extension": ".py",
   "mimetype": "text/x-python",
   "name": "python",
   "nbconvert_exporter": "python",
   "pygments_lexer": "ipython3",
   "version": "3.7.10"
  }
 },
 "nbformat": 4,
 "nbformat_minor": 5
}
