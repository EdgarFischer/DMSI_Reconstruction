{
 "cells": [
  {
   "cell_type": "markdown",
   "id": "ddd59ffc",
   "metadata": {},
   "source": [
    "The way the data was measured it already includes higher density in k-space center, and lowering density as one goes away from the center. Therefore, there is no need to implement some \"possoin\" version or something. I implement the following simple strategy: First randomly select a ring € [0,42], then a random k_z index for which this ring has been sampled. This should approximately give a possoin distribution, as the data itself is already ~ quadratically decreasing in density as one goes away from the center"
   ]
  },
  {
   "cell_type": "code",
   "execution_count": 25,
   "id": "bcfcbe3e",
   "metadata": {},
   "outputs": [],
   "source": [
    "import sys\n",
    "import os\n",
    "\n",
    "sys.path.append('../../../scripts')\n",
    "sys.path.append('../../../models')\n",
    "\n",
    "import copy\n",
    "os.environ[\"CUDA_VISIBLE_DEVICES\"]= '2' #, this way I would choose GPU 3 to do the work\n",
    "\n",
    "from scipy.io import loadmat\n",
    "import numpy as np\n",
    "import matplotlib.pyplot as plt\n",
    "\n",
    "os.environ[\"CUDA_VISIBLE_DEVICES\"]= '0' #, this way I would choose GPU 3 to do the work\n",
    "\n",
    "import torch\n",
    "import numpy as np\n",
    "import time\n",
    "import h5py\n",
    "import matplotlib.pyplot as plt\n",
    "from scipy.ndimage import zoom # for compressing images / only for testing purposes to speed up NN training\n",
    "from scipy.fft import fft2, fftshift\n",
    "from scipy.io import loadmat\n",
    "from torch.utils.data import DataLoader, Subset\n",
    "import torch.optim as optim\n",
    "import torch.nn as nn\n",
    "from scipy.io import loadmat\n",
    "import random\n",
    "\n",
    "from data_preparation import *\n",
    "import plotly.graph_objects as gorings\n",
    "import scipy.io as sio\n",
    "\n",
    "\n",
    "AF = 3 # set acceleration factor"
   ]
  },
  {
   "cell_type": "markdown",
   "id": "a4ff22bf",
   "metadata": {},
   "source": [
    "In the code below, I compute exactly how much percent of k-space is sampled at which k_z position"
   ]
  },
  {
   "cell_type": "code",
   "execution_count": 2,
   "id": "dd45d1fa",
   "metadata": {},
   "outputs": [
    {
     "name": "stderr",
     "output_type": "stream",
     "text": [
      "No handles with labels found to put in legend.\n"
     ]
    },
    {
     "data": {
      "image/png": "[encoded data removed]",
      "text/plain": [
       "<Figure size 432x288 with 1 Axes>"
      ]
     },
     "metadata": {
      "needs_background": "light"
     },
     "output_type": "display_data"
    }
   ],
   "source": [
    "mat_data_8 = loadmat('../../fn_vb_DMI_CRT_P04/CombinedCSI_full_rank.mat')\n",
    "csi_data = mat_data_8['csi']\n",
    "Data = csi_data['Data'][0,0]\n",
    "\n",
    "Par = csi_data['Par'][0,0]\n",
    "\n",
    "Circles_Per_kz_Matrix = Par['AngIntsPerPartEnc'][0,0]\n",
    "\n",
    "Circles_Per_kz = np.zeros(43)\n",
    "\n",
    "for i in range(0,43):\n",
    "    Circles_Per_kz[i] = np.sum(Circles_Per_kz_Matrix[i])\n",
    "\n",
    "Percentage_Per_kz = 100*Circles_Per_kz / np.sum(Circles_Per_kz)\n",
    "\n",
    "plt.plot(Percentage_Per_kz)\n",
    "\n",
    "# Add labels and title\n",
    "plt.xlabel(\"k_z Position\")\n",
    "plt.ylabel(\"Percentage of k-space\")\n",
    "\n",
    "# Add a legend\n",
    "plt.legend()\n",
    "\n",
    "# Show the plot\n",
    "plt.show()"
   ]
  },
  {
   "cell_type": "markdown",
   "id": "b670ba9b",
   "metadata": {},
   "source": [
    "Compute how many central planes amount to ~20% of the data"
   ]
  },
  {
   "cell_type": "code",
   "execution_count": 3,
   "id": "38759c0e",
   "metadata": {},
   "outputs": [
    {
     "name": "stdout",
     "output_type": "stream",
     "text": [
      "20\n",
      "22\n",
      "19\n",
      "23\n",
      "18\n",
      "24\n",
      "20.946416144745996\n"
     ]
    }
   ],
   "source": [
    "x = 0\n",
    "x = x + Percentage_Per_kz[21]\n",
    "for i in range(1,4):\n",
    "    x = x + Percentage_Per_kz[21-i]+Percentage_Per_kz[21+i]\n",
    "    print(21-i)\n",
    "    print(21+i)\n",
    "    \n",
    "print(x)"
   ]
  },
  {
   "cell_type": "code",
   "execution_count": 4,
   "id": "9d9edf21",
   "metadata": {},
   "outputs": [],
   "source": [
    "#### Next I want to undersample in a complementary fashion. I generate a pool that has all indices that are not sampled \n",
    "#### except for ones that are always kept across time steps. \n",
    "\n",
    "def pool(kept_Indices, Number_Circles):\n",
    "    all_indices = np.arange(Number_Circles)  # Generate array [0, 1, ..., Number_Circles-1]\n",
    "    return np.delete(all_indices, kept_Indices)  # Remove indices in kept_Indices"
   ]
  },
  {
   "cell_type": "markdown",
   "id": "c732f87f",
   "metadata": {},
   "source": [
    "**Reshaping**\n",
    "\n",
    "The above code accomplishes that I have the complete k_space mask information in the format (k_z, T). If Mask[i,j] = 1, it means k_z position can be sampled at timestep T, otherwise not. However, in Matlab the data is saved is saved as csi.Data with the following format:\n",
    "\n",
    "size(csi.Data) = 1 43; a list of 43 entries, one for each RING. Then size(csi.Data{i}) = 526 1 N 1 96 1 8; where N is the number of k_z partitions this ring appears in. Unfortunately, N is not directly the k_z index, but rather N = 1 corresponds to the smallest k_z index that has been measured etc. So what I want is this:\n",
    "\n",
    "**Goal:**\n",
    "\n",
    "I create a dictionary structure \"ring_sampling\" that mirrors the matlabl structure. So ring_sampling[i] is a list of list for ring i.\n",
    "The outer list has 8 elements, for the 8 time steps, then each of these 8 inner lists has the indices that should be sampled."
   ]
  },
  {
   "cell_type": "markdown",
   "id": "121467d2",
   "metadata": {},
   "source": [
    "**First step**\n",
    "\n",
    "Create a matrix with the matlab indices for each Ring. I accomplish this by using the matrix Circles_Per_kz_Matrix which is 1 at index i,j if the ith kz position was measured by ring j, and 0 else. I multiply this matrix by a matrix of shape 43x43 point wise (same shape) which has 1 in the first row 2 in the second row etc. It is important to note that the k_z positions are counted beginning from 1 not 0."
   ]
  },
  {
   "cell_type": "code",
   "execution_count": 5,
   "id": "742a89c4",
   "metadata": {},
   "outputs": [
    {
     "name": "stdout",
     "output_type": "stream",
     "text": [
      "[ 0  0  0  0  0  0  0  0  0  0  0  0  0  0  0  0  0 18 19 20 21 22 23 24\n",
      " 25 26  0  0  0  0  0  0  0  0  0  0  0  0  0  0  0  0  0]\n"
     ]
    }
   ],
   "source": [
    "Circles_Per_kz_Matrix[0,0]\n",
    "\n",
    "# Create a column vector of row numbers (starting from 1)\n",
    "n=43\n",
    "row_numbers = np.arange(1, n + 1).reshape(n, 1)\n",
    "matrix = np.tile(row_numbers, (1, n))\n",
    "matrix_inverse = 1 / matrix\n",
    "\n",
    "Sampled_Indices_Per_Ring = matrix * Circles_Per_kz_Matrix\n",
    "\n",
    "print(Sampled_Indices_Per_Ring[:,42])\n",
    "\n",
    "#Sampled_Indices_Per_Ring: This means e.g. Sampled_Indices_Per_Ring[:,0] gives all the k_z indizes (sstartng from 1 not 0 (!)) that have been sampled by Ring 0 etc."
   ]
  },
  {
   "cell_type": "markdown",
   "id": "95440fcc",
   "metadata": {},
   "source": [
    "In here I save the minimum k_z positions that has been sampled per ring, again this starts at k_z = 0"
   ]
  },
  {
   "cell_type": "code",
   "execution_count": 6,
   "id": "1d7928d8",
   "metadata": {},
   "outputs": [],
   "source": [
    "Minimum_kz_position = np.zeros(43)\n",
    "\n",
    "for i in range(0,43):\n",
    "    Sampled_kz_ring_i = Sampled_Indices_Per_Ring[:,i]\n",
    "    first_nonzero = next((x for x in Sampled_kz_ring_i if x != 0), None)\n",
    "    Minimum_kz_position[i] = first_nonzero -1 #start at 0 not at 1"
   ]
  },
  {
   "cell_type": "code",
   "execution_count": 7,
   "id": "93f6efd3",
   "metadata": {},
   "outputs": [
    {
     "data": {
      "text/plain": [
       "array([ 0.,  0.,  1.,  1.,  1.,  1.,  1.,  1.,  1.,  1.,  1.,  1.,  1.,\n",
       "        1.,  2.,  2.,  2.,  2.,  2.,  3.,  3.,  3.,  3.,  4.,  4.,  4.,\n",
       "        5.,  5.,  6.,  6.,  6.,  7.,  7.,  8.,  9.,  9., 10., 11., 12.,\n",
       "       13., 14., 15., 17.])"
      ]
     },
     "execution_count": 7,
     "metadata": {},
     "output_type": "execute_result"
    }
   ],
   "source": [
    "Minimum_kz_position"
   ]
  },
  {
   "cell_type": "code",
   "execution_count": 8,
   "id": "e214507a",
   "metadata": {},
   "outputs": [
    {
     "data": {
      "text/plain": [
       "array([ 1,  2,  3,  4,  5,  6,  7,  8,  9, 10, 11, 12, 13, 14, 15, 16, 17,\n",
       "       18, 19, 20, 21, 22, 23, 24, 25, 26, 27, 28, 29, 30, 31, 32, 33, 34,\n",
       "       35, 36, 37, 38, 39, 40, 41, 42, 43])"
      ]
     },
     "execution_count": 8,
     "metadata": {},
     "output_type": "execute_result"
    }
   ],
   "source": [
    "np.arange(1, 44)"
   ]
  },
  {
   "cell_type": "markdown",
   "id": "26ca03ca",
   "metadata": {},
   "source": [
    "# ***Creating apropritate data structure***\n",
    "\n",
    "Now I want to start to assemble which rings have actually been sampled. First I create a dictionary, containing 43 elements (rings) each containing a list of list (upper list 8 time steps, and then a list for what has been sampled at that time step by that ring). This is the format in which it is saved in matlab."
   ]
  },
  {
   "cell_type": "code",
   "execution_count": 9,
   "id": "ec3fd008",
   "metadata": {},
   "outputs": [],
   "source": [
    "num_rings = 44\n",
    "num_time_steps = 8\n",
    "\n",
    "# Create a dictionary to hold the sampling info for each ring.\n",
    "# Keys are ring numbers (here, 0-indexed; you can adjust to 1-indexed if you prefer).\n",
    "# Each value is a list of length num_time_steps, where each element is a list of indices\n",
    "# for that ring that are sampled at that time step.\n",
    "ring_sampling = {}\n",
    "\n",
    "for ring in range(num_rings):\n",
    "    # For each ring, initialize an empty list for each time step.\n",
    "    ring_sampling[ring] = [[] for _ in range(num_time_steps)]\n",
    "\n",
    "ring_undersampling = copy.deepcopy(ring_sampling)\n",
    "\n",
    "# Example: suppose for ring 0 at time step 0 we sampled indices [1, 3, 5]\n",
    "#ring_sampling[0][0] = [1, 3, 5]\n",
    "\n",
    "# And perhaps for ring 0 at time step 1 we sampled indices [2, 4]\n",
    "#ring_sampling[0][1] = [2, 4]\n",
    "\n",
    "#ring_sampling"
   ]
  },
  {
   "cell_type": "code",
   "execution_count": 10,
   "id": "b991a528",
   "metadata": {},
   "outputs": [],
   "source": [
    "#### I always keep the 4 innermost rings by default\n",
    "\n",
    "for kept_rings in range(0,4):\n",
    "    for T in range(0,8):\n",
    "        if T == 0:\n",
    "            for i in range(1,44):\n",
    "                ring_undersampling[kept_rings][T].append(i)\n",
    "                ring_undersampling[kept_rings][T].sort()   \n",
    "        else:\n",
    "            for i in range(1,44):\n",
    "                ring_undersampling[kept_rings][T].append(i)\n",
    "                ring_undersampling[kept_rings][T].sort()\n",
    "                \n",
    "for T in range(0,8):\n",
    "    if T == 0:\n",
    "        for i in range(1,44):\n",
    "            ring_undersampling[43][T].append(i)\n",
    "            ring_undersampling[43][T].sort() \n",
    "    else:\n",
    "        for i in range(1,44):\n",
    "            ring_undersampling[43][T].append(i)\n",
    "            ring_undersampling[43][T].sort()     "
   ]
  },
  {
   "cell_type": "code",
   "execution_count": null,
   "id": "3bc1d8e8",
   "metadata": {},
   "outputs": [],
   "source": []
  },
  {
   "cell_type": "markdown",
   "id": "9c08bcca",
   "metadata": {},
   "source": [
    "Next, I actually save something to that structure. I start with the fully sampled case."
   ]
  },
  {
   "cell_type": "code",
   "execution_count": 11,
   "id": "e32ffe3d",
   "metadata": {},
   "outputs": [],
   "source": [
    "for ring in range(0,43):\n",
    "    for T in range(0,8):\n",
    "        ring_sampling[ring][T] = np.array([x for x in Sampled_Indices_Per_Ring[:,ring] if x !=0]).reshape(-1)"
   ]
  },
  {
   "cell_type": "code",
   "execution_count": 12,
   "id": "776e1fec",
   "metadata": {},
   "outputs": [
    {
     "data": {
      "text/plain": [
       "11.969380654140572"
      ]
     },
     "execution_count": 12,
     "metadata": {},
     "output_type": "execute_result"
    }
   ],
   "source": [
    "def percentage_k_space(array, T):\n",
    "    count = 0\n",
    "    for i in range(0,43):\n",
    "        count = count + len(array[i][T])\n",
    "        \n",
    "    return 100*(count/1437) #note that 1437 rings had been measured\n",
    "\n",
    "percentage_k_space(ring_undersampling, 0)"
   ]
  },
  {
   "cell_type": "code",
   "execution_count": 13,
   "id": "242c3097",
   "metadata": {},
   "outputs": [],
   "source": [
    "import numpy as np\n",
    "\n",
    "def sample_candidate(r_max, num_rings, kz_min, kz_max, r_min = 0):\n",
    "    \"\"\"\n",
    "    Sample a candidate (ring, k_z) pair based on polar coordinates.\n",
    "    \n",
    "    Parameters:\n",
    "      r_max    : maximum 3D distance from center (tunable based on k-space extent)\n",
    "      num_rings: total number of rings (e.g., 43)\n",
    "      kz_min   : minimum k_z index value (e.g., 0)\n",
    "      kz_max   : maximum k_z index value (e.g., maximum index available per ring)\n",
    "      \n",
    "    Returns:\n",
    "      candidate_ring: integer ring index in [0, num_rings-1]\n",
    "      candidate_kz  : integer k_z index in [kz_min, kz_max]\n",
    "    \"\"\"\n",
    "    # Randomly choose r and theta:\n",
    "    r = np.random.uniform(r_min, r_max)\n",
    "    theta = np.random.uniform(-np.pi/2, np.pi/2)\n",
    "    \n",
    "    # Compute candidate values:\n",
    "    # Note: cos(theta) is always positive in [-pi/2, pi/2], so candidate_ring is nonnegative.\n",
    "    candidate_ring_float = r * np.cos(theta)\n",
    "    candidate_kz_float = r * np.sin(theta)/2\n",
    "    \n",
    "    # Round to nearest integer.\n",
    "    candidate_ring = int(np.round(candidate_ring_float))\n",
    "    candidate_kz = int(np.round(candidate_kz_float))\n",
    "    \n",
    "    # For the ring index, we assume the center corresponds to ring 0.\n",
    "    # If your rings are defined from 0 to num_rings-1 (with 0 being the center),\n",
    "    # you may leave candidate_ring as is. Otherwise, shift accordingly.\n",
    "    # Here, we simply bound it to valid indices.\n",
    "    candidate_ring = max(0, min(candidate_ring, num_rings - 1))\n",
    "    \n",
    "    # For k_z, assume that k_z = 0 is at the center.\n",
    "    # Shift candidate_kz so that the center index is at (kz_min + kz_max)/2.\n",
    "    kz_center = (kz_min + kz_max) / 2\n",
    "    candidate_kz += int(np.round(kz_center))\n",
    "    candidate_kz = max(kz_min, min(candidate_kz, kz_max))\n",
    "    \n",
    "    return candidate_ring, candidate_kz\n",
    "\n",
    "# --- Example usage in an undersampling loop ---\n",
    "\n",
    "# Parameters (tune these based on your k-space geometry)\n",
    "num_rings = 43\n",
    "r_max = 43               # maximum \"3D distance\" (adjust as appropriate)\n",
    "kz_min = 1               # lowest k_z index\n",
    "kz_max = 43             # highest k_z index for a given ring (example)\n",
    "\n",
    "# Suppose you have structures 'ring_sampling' and 'ring_undersampling'\n",
    "# For this example, assume ring_sampling[ring][T] is a list of available k_z indices\n",
    "# for ring (and time point T), and ring_undersampling holds the ones already sampled.\n",
    "# Also assume you have a function percentage_k_space(undersampling, T) that returns the\n",
    "# percentage of k-space sampled for time T.\n",
    "\n",
    "num_timepoints = 8\n",
    "target_percentage = 100*(1/AF)  # e.g., 50%\n",
    "\n",
    "for T in range(num_timepoints):\n",
    "    # Continue sampling until your target percentage is reached.\n",
    "    while percentage_k_space(ring_undersampling, T) < target_percentage:\n",
    "        # Sample a candidate (ring, k_z) pair\n",
    "        cand_ring, cand_kz = sample_candidate(r_max, num_rings, kz_min, kz_max)\n",
    "        \n",
    "        # Check if this candidate exists in your ring_sampling structure and\n",
    "        # hasn't been selected yet.\n",
    "        if cand_kz in ring_sampling[cand_ring][T]:\n",
    "            if cand_kz not in ring_undersampling[cand_ring][T]:\n",
    "                ring_undersampling[cand_ring][T].append(cand_kz)\n",
    "                ring_undersampling[cand_ring][T].sort()\n",
    "\n",
    "import numpy as np\n",
    "\n",
    "# Ensure all entries in ring_undersampling are column vectors\n",
    "for T in range(num_timepoints):\n",
    "    for k in range(43):  # No need to explicitly write (0,43)\n",
    "        if isinstance(ring_undersampling[k][T], list):  \n",
    "            # Convert lists to NumPy arrays first\n",
    "            ring_undersampling[k][T] = np.array(ring_undersampling[k][T])\n",
    "\n",
    "        if ring_undersampling[k][T].ndim == 1:  # Ensure it's a 1D array before reshaping\n",
    "            ring_undersampling[k][T] = ring_undersampling[k][T].reshape(-1) # Column vector\n",
    "\n",
    "            "
   ]
  },
  {
   "cell_type": "code",
   "execution_count": 14,
   "id": "b59fcec7",
   "metadata": {},
   "outputs": [
    {
     "data": {
      "text/plain": [
       "[array([ 7,  9, 12, 13, 15, 19, 20, 22, 23, 24, 27, 29, 32, 34, 37, 41]),\n",
       " array([ 3,  9, 13, 15, 16, 18, 19, 20, 21, 22, 24, 27, 30, 36]),\n",
       " array([ 7, 13, 14, 16, 17, 18, 19, 21, 23, 25, 28, 30, 33, 37, 39]),\n",
       " array([14, 19, 20, 21, 22, 23, 28, 29, 30, 39, 41]),\n",
       " array([10, 12, 14, 15, 19, 20, 21, 22, 24, 26, 28, 30, 38, 41]),\n",
       " array([ 3,  5,  6,  9, 10, 12, 17, 18, 19, 21, 22, 23, 24, 28, 29, 31, 33,\n",
       "        36, 37, 41]),\n",
       " array([10, 12, 19, 20, 21, 22, 24, 25, 27, 28, 29, 36, 38, 41]),\n",
       " array([ 4, 12, 14, 17, 19, 20, 21, 22, 23, 24, 25, 27, 30, 37])]"
      ]
     },
     "execution_count": 14,
     "metadata": {},
     "output_type": "execute_result"
    }
   ],
   "source": [
    "ring_undersampling[5]"
   ]
  },
  {
   "cell_type": "code",
   "execution_count": 15,
   "id": "d62fc03d",
   "metadata": {},
   "outputs": [],
   "source": [
    "ring_undersampling_final_format = copy.deepcopy(ring_undersampling)\n",
    "\n",
    "for ring in range(4,44):\n",
    "    for T in range(0,8):\n",
    "        if ring == 43:\n",
    "            ring_undersampling_final_format[ring][T] = ring_undersampling_final_format[ring][T] - (np.ones((len(ring_undersampling_final_format[ring][T]))))\n",
    "        else:    \n",
    "            ring_undersampling_final_format[ring][T] = ring_undersampling_final_format[ring][T] - (np.ones((len(ring_undersampling_final_format[ring][T])))*Minimum_kz_position[ring])"
   ]
  },
  {
   "cell_type": "code",
   "execution_count": 16,
   "id": "7d50d146",
   "metadata": {},
   "outputs": [
    {
     "data": {
      "text/plain": [
       "[array([ 1,  2,  3,  4,  5,  6,  7,  8,  9, 10, 11, 12, 13, 14, 15, 16, 17,\n",
       "        18, 19, 20, 21, 22, 23, 24, 25, 26, 27, 28, 29, 30, 31, 32, 33, 34,\n",
       "        35, 36, 37, 38, 39, 40, 41, 42, 43]),\n",
       " array([ 1,  2,  3,  4,  5,  6,  7,  8,  9, 10, 11, 12, 13, 14, 15, 16, 17,\n",
       "        18, 19, 20, 21, 22, 23, 24, 25, 26, 27, 28, 29, 30, 31, 32, 33, 34,\n",
       "        35, 36, 37, 38, 39, 40, 41, 42, 43]),\n",
       " array([ 1,  2,  3,  4,  5,  6,  7,  8,  9, 10, 11, 12, 13, 14, 15, 16, 17,\n",
       "        18, 19, 20, 21, 22, 23, 24, 25, 26, 27, 28, 29, 30, 31, 32, 33, 34,\n",
       "        35, 36, 37, 38, 39, 40, 41, 42, 43]),\n",
       " array([ 1,  2,  3,  4,  5,  6,  7,  8,  9, 10, 11, 12, 13, 14, 15, 16, 17,\n",
       "        18, 19, 20, 21, 22, 23, 24, 25, 26, 27, 28, 29, 30, 31, 32, 33, 34,\n",
       "        35, 36, 37, 38, 39, 40, 41, 42, 43]),\n",
       " array([ 1,  2,  3,  4,  5,  6,  7,  8,  9, 10, 11, 12, 13, 14, 15, 16, 17,\n",
       "        18, 19, 20, 21, 22, 23, 24, 25, 26, 27, 28, 29, 30, 31, 32, 33, 34,\n",
       "        35, 36, 37, 38, 39, 40, 41, 42, 43]),\n",
       " array([ 1,  2,  3,  4,  5,  6,  7,  8,  9, 10, 11, 12, 13, 14, 15, 16, 17,\n",
       "        18, 19, 20, 21, 22, 23, 24, 25, 26, 27, 28, 29, 30, 31, 32, 33, 34,\n",
       "        35, 36, 37, 38, 39, 40, 41, 42, 43]),\n",
       " array([ 1,  2,  3,  4,  5,  6,  7,  8,  9, 10, 11, 12, 13, 14, 15, 16, 17,\n",
       "        18, 19, 20, 21, 22, 23, 24, 25, 26, 27, 28, 29, 30, 31, 32, 33, 34,\n",
       "        35, 36, 37, 38, 39, 40, 41, 42, 43]),\n",
       " array([ 1,  2,  3,  4,  5,  6,  7,  8,  9, 10, 11, 12, 13, 14, 15, 16, 17,\n",
       "        18, 19, 20, 21, 22, 23, 24, 25, 26, 27, 28, 29, 30, 31, 32, 33, 34,\n",
       "        35, 36, 37, 38, 39, 40, 41, 42, 43])]"
      ]
     },
     "execution_count": 16,
     "metadata": {},
     "output_type": "execute_result"
    }
   ],
   "source": [
    "ring_undersampling_final_format[0]"
   ]
  },
  {
   "cell_type": "code",
   "execution_count": 17,
   "id": "c01bcbde",
   "metadata": {},
   "outputs": [],
   "source": [
    "import numpy as np\n",
    "\n",
    "#### I save this into an exmpassing array to avoid matlab file handling inconsistencies, which happen with lists of different length\n",
    "\n",
    "num_rings = 44\n",
    "num_time = 8\n",
    "max_len = 43\n",
    "\n",
    "big_array = np.zeros((num_rings, num_time, max_len))\n",
    "\n",
    "for ring in range(num_rings):\n",
    "    # Get the list of 8 arrays for this ring\n",
    "    ring_data = ring_undersampling_final_format[ring]\n",
    "    for t in range(num_time):\n",
    "        arr = ring_data[t]\n",
    "        L = len(arr)\n",
    "        # Fill in the available indices, the rest remain zero\n",
    "        big_array[ring, t, :L] = arr\n"
   ]
  },
  {
   "cell_type": "code",
   "execution_count": 18,
   "id": "fa11cb65",
   "metadata": {},
   "outputs": [
    {
     "data": {
      "text/plain": [
       "array([ 3., 11., 13., 16., 18., 19., 20., 21., 22., 23., 24., 26., 29.,\n",
       "       36.,  0.,  0.,  0.,  0.,  0.,  0.,  0.,  0.,  0.,  0.,  0.,  0.,\n",
       "        0.,  0.,  0.,  0.,  0.,  0.,  0.,  0.,  0.,  0.,  0.,  0.,  0.,\n",
       "        0.,  0.,  0.,  0.])"
      ]
     },
     "execution_count": 18,
     "metadata": {},
     "output_type": "execute_result"
    }
   ],
   "source": [
    "big_array[5,7,:]"
   ]
  },
  {
   "cell_type": "code",
   "execution_count": 19,
   "id": "ecdeb578",
   "metadata": {},
   "outputs": [
    {
     "data": {
      "text/plain": [
       "array([ 3., 11., 13., 16., 18., 19., 20., 21., 22., 23., 24., 26., 29.,\n",
       "       36.])"
      ]
     },
     "execution_count": 19,
     "metadata": {},
     "output_type": "execute_result"
    }
   ],
   "source": [
    "ring_undersampling_final_format[5][7]"
   ]
  },
  {
   "cell_type": "markdown",
   "id": "f6a13a92",
   "metadata": {},
   "source": [
    "# ***Save to matlab file***"
   ]
  },
  {
   "cell_type": "code",
   "execution_count": 20,
   "id": "ebfd1b98",
   "metadata": {},
   "outputs": [],
   "source": [
    "import numpy as np\n",
    "import scipy.io as sio\n",
    "\n",
    "num_rings = 44\n",
    "num_time = 8\n",
    "max_len = 43\n",
    "\n",
    "# Create an empty array filled with zeros\n",
    "#big_array = np.zeros((num_rings, num_time, max_len))\n",
    "\n",
    "# Fill the big array from your dictionary\n",
    "for ring in range(num_rings):\n",
    "    ring_data = ring_undersampling_final_format[ring]  # list of 8 arrays\n",
    "    for t in range(num_time):\n",
    "        arr = ring_data[t]\n",
    "        L = len(arr)\n",
    "        big_array[ring, t, :L] = arr\n",
    "\n",
    "# Save as a MATLAB array (csiUS will be a 44x8x43 array in MATLAB)\n",
    "filename = f'csiUndersampled_AF{AF}.mat'\n",
    "sio.savemat(filename, {'csiUS': big_array})\n"
   ]
  },
  {
   "cell_type": "markdown",
   "id": "7fcb0b95",
   "metadata": {},
   "source": [
    "**Reconstruction k-z Positions of Rings**"
   ]
  },
  {
   "cell_type": "code",
   "execution_count": 21,
   "id": "e805b9ee",
   "metadata": {},
   "outputs": [
    {
     "data": {
      "text/plain": [
       "array([array([[526,   1,  43,   1,  96,   1,   8]], dtype=uint16),\n",
       "       array([[526,   1,  43,   1,  96,   1,   8]], dtype=uint16),\n",
       "       array([[526,   1,  41,   1,  96,   1,   8]], dtype=uint16),\n",
       "       array([[526,   1,  41,   1,  96,   1,   8]], dtype=uint16),\n",
       "       array([[526,   1,  41,   1,  96,   1,   8]], dtype=uint16),\n",
       "       array([[526,   1,  41,   1,  96,   1,   8]], dtype=uint16),\n",
       "       array([[526,   1,  41,   1,  96,   1,   8]], dtype=uint16),\n",
       "       array([[526,   1,  41,   1,  96,   1,   8]], dtype=uint16),\n",
       "       array([[526,   1,  41,   1,  96,   1,   8]], dtype=uint16),\n",
       "       array([[526,   1,  41,   1,  96,   1,   8]], dtype=uint16),\n",
       "       array([[526,   1,  41,   1,  96,   1,   8]], dtype=uint16),\n",
       "       array([[526,   1,  41,   1,  96,   1,   8]], dtype=uint16),\n",
       "       array([[526,   1,  41,   1,  96,   1,   8]], dtype=uint16),\n",
       "       array([[526,   1,  41,   1,  96,   1,   8]], dtype=uint16),\n",
       "       array([[526,   1,  39,   1,  96,   1,   8]], dtype=uint16),\n",
       "       array([[526,   1,  39,   1,  96,   1,   8]], dtype=uint16),\n",
       "       array([[526,   1,  39,   1,  96,   1,   8]], dtype=uint16),\n",
       "       array([[526,   1,  39,   1,  96,   1,   8]], dtype=uint16),\n",
       "       array([[526,   1,  39,   1,  96,   1,   8]], dtype=uint16),\n",
       "       array([[526,   1,  37,   1,  96,   1,   8]], dtype=uint16),\n",
       "       array([[526,   1,  37,   1,  96,   1,   8]], dtype=uint16),\n",
       "       array([[526,   1,  37,   1,  96,   1,   8]], dtype=uint16),\n",
       "       array([[526,   1,  37,   1,  96,   1,   8]], dtype=uint16),\n",
       "       array([[526,   1,  35,   1,  96,   1,   8]], dtype=uint16),\n",
       "       array([[526,   1,  35,   1,  96,   1,   8]], dtype=uint16),\n",
       "       array([[526,   1,  35,   1,  96,   1,   8]], dtype=uint16),\n",
       "       array([[526,   1,  33,   1,  96,   1,   8]], dtype=uint16),\n",
       "       array([[526,   1,  33,   1,  96,   1,   8]], dtype=uint16),\n",
       "       array([[526,   1,  31,   1,  96,   1,   8]], dtype=uint16),\n",
       "       array([[526,   1,  31,   1,  96,   1,   8]], dtype=uint16),\n",
       "       array([[526,   1,  31,   1,  96,   1,   8]], dtype=uint16),\n",
       "       array([[526,   1,  29,   1,  96,   1,   8]], dtype=uint16),\n",
       "       array([[526,   1,  29,   1,  96,   1,   8]], dtype=uint16),\n",
       "       array([[526,   1,  27,   1,  96,   1,   8]], dtype=uint16),\n",
       "       array([[526,   1,  25,   1,  96,   1,   8]], dtype=uint16),\n",
       "       array([[526,   1,  25,   1,  96,   1,   8]], dtype=uint16),\n",
       "       array([[526,   1,  23,   1,  96,   1,   8]], dtype=uint16),\n",
       "       array([[526,   1,  21,   1,  96,   1,   8]], dtype=uint16),\n",
       "       array([[526,   1,  19,   1,  96,   1,   8]], dtype=uint16),\n",
       "       array([[526,   1,  17,   1,  96,   1,   8]], dtype=uint16),\n",
       "       array([[526,   1,  15,   1,  96,   1,   8]], dtype=uint16),\n",
       "       array([[526,   1,  13,   1,  96,   1,   8]], dtype=uint16),\n",
       "       array([[526,   1,   9,   1,  96,   1,   8]], dtype=uint16)],\n",
       "      dtype=object)"
      ]
     },
     "execution_count": 21,
     "metadata": {},
     "output_type": "execute_result"
    }
   ],
   "source": [
    "mat_data_4 = loadmat('../../fn_vb_DMI_CRT_P04/CombinedCSI_full_rank.mat')\n",
    "csi_data = mat_data_4['csi']\n",
    "par_data = csi_data['Par'][0,0]\n",
    "Data_Size = par_data['DataSize'][0][0][0]\n",
    "Data_Size"
   ]
  },
  {
   "cell_type": "code",
   "execution_count": 22,
   "id": "ac7538e1",
   "metadata": {},
   "outputs": [
    {
     "name": "stdout",
     "output_type": "stream",
     "text": [
      "Total Number of Rings\n",
      "1437\n",
      "Total Number of k-Space points\n",
      "755862\n"
     ]
    }
   ],
   "source": [
    "Number_Of_Rings = 0\n",
    "for i in range(0,43):\n",
    "    Number_Of_Rings = Number_Of_Rings +Data_Size[i][0][2]\n",
    "print('Total Number of Rings')\n",
    "print(Number_Of_Rings)\n",
    "\n",
    "print('Total Number of k-Space points')\n",
    "print(Number_Of_Rings*526)"
   ]
  },
  {
   "cell_type": "code",
   "execution_count": 23,
   "id": "2a530c80",
   "metadata": {},
   "outputs": [
    {
     "data": {
      "text/plain": [
       "172"
      ]
     },
     "execution_count": 23,
     "metadata": {},
     "output_type": "execute_result"
    }
   ],
   "source": [
    "43*4"
   ]
  },
  {
   "cell_type": "code",
   "execution_count": 24,
   "id": "83707d1a",
   "metadata": {},
   "outputs": [
    {
     "data": {
      "text/plain": [
       "0.11969380654140571"
      ]
     },
     "execution_count": 24,
     "metadata": {},
     "output_type": "execute_result"
    }
   ],
   "source": [
    "172/(1437)"
   ]
  },
  {
   "cell_type": "code",
   "execution_count": null,
   "id": "5096de49",
   "metadata": {},
   "outputs": [],
   "source": []
  }
 ],
 "metadata": {
  "kernelspec": {
   "display_name": "Python 3 (ipykernel)",
   "language": "python",
   "name": "python3"
  },
  "language_info": {
   "codemirror_mode": {
    "name": "ipython",
    "version": 3
   },
   "file_extension": ".py",
   "mimetype": "text/x-python",
   "name": "python",
   "nbconvert_exporter": "python",
   "pygments_lexer": "ipython3",
   "version": "3.7.10"
  }
 },
 "nbformat": 4,
 "nbformat_minor": 5
}
