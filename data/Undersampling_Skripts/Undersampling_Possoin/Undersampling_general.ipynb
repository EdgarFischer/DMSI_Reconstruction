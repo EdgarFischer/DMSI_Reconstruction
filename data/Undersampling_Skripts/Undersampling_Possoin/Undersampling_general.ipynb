{
 "cells": [
  {
   "cell_type": "markdown",
   "id": "864c4b34",
   "metadata": {},
   "source": [
    "# Set Parameters"
   ]
  },
  {
   "cell_type": "code",
   "execution_count": 37,
   "id": "d465d082",
   "metadata": {},
   "outputs": [],
   "source": [
    "AF = 4 # set acceleration factor\n",
    "\n",
    "data_path = '../../Abdomen_Small_Matrix/CombinedCSI.mat'\n",
    "\n",
    "filename = f\"SmallMatrix_AF{AF}.mat\""
   ]
  },
  {
   "cell_type": "markdown",
   "id": "f2abad53",
   "metadata": {},
   "source": [
    "# Load Modules and define some basic function for data structure handling"
   ]
  },
  {
   "cell_type": "code",
   "execution_count": 38,
   "id": "4e31ef89",
   "metadata": {},
   "outputs": [],
   "source": [
    "def flatten_arrays_to_lists(item):\n",
    "    # If it's a NumPy array, flatten to 1D and convert to list\n",
    "    if isinstance(item, np.ndarray):\n",
    "        return item.flatten().tolist()\n",
    "    # If it's a list, apply this function to each element\n",
    "    elif isinstance(item, list):\n",
    "        return [flatten_arrays_to_lists(x) for x in item]\n",
    "    # If it's a dictionary, apply this function to each value\n",
    "    elif isinstance(item, dict):\n",
    "        return {k: flatten_arrays_to_lists(v) for k, v in item.items()}\n",
    "    # Otherwise (int, float, str, etc.), leave as-is\n",
    "    else:\n",
    "        return item\n",
    "\n",
    "import sys\n",
    "import os\n",
    "\n",
    "sys.path.append('../../../scripts')\n",
    "sys.path.append('../../../models')\n",
    "\n",
    "import copy\n",
    "os.environ[\"CUDA_VISIBLE_DEVICES\"]= '2' #, this way I would choose GPU 3 to do the work\n",
    "\n",
    "from scipy.io import loadmat\n",
    "import numpy as np\n",
    "import matplotlib.pyplot as plt\n",
    "\n",
    "import torch\n",
    "import numpy as np\n",
    "import time\n",
    "import h5py\n",
    "import matplotlib.pyplot as plt\n",
    "from scipy.ndimage import zoom # for compressing images / only for testing purposes to speed up NN training\n",
    "from scipy.fft import fft2, fftshift\n",
    "from scipy.io import loadmat\n",
    "from torch.utils.data import DataLoader, Subset\n",
    "import torch.optim as optim\n",
    "import torch.nn as nn\n",
    "from scipy.io import loadmat\n",
    "import random\n",
    "\n",
    "from data_preparation import *\n",
    "import plotly.graph_objects as gorings\n",
    "import scipy.io as sio"
   ]
  },
  {
   "cell_type": "markdown",
   "id": "a6d10e8b",
   "metadata": {},
   "source": [
    "# Load data and extract necessary metadata"
   ]
  },
  {
   "cell_type": "code",
   "execution_count": 39,
   "id": "ccaf9c33",
   "metadata": {},
   "outputs": [],
   "source": [
    "mat_data = loadmat(data_path)\n",
    "\n",
    "csi_data = mat_data['csi']\n",
    "Parameters = csi_data['Par'][0,0]\n",
    "\n",
    "#### Retrieve kz positions of measured circles ####\n",
    "kz_positions = Parameters['kzPositions'][0,0][0]\n",
    "\n",
    "#### Retrieve k space Radii of the measured rings in kspace ####\n",
    "radii = Parameters['kSpaceRadii'][0,0][0]\n",
    "\n",
    "#### Retrieve Matrix with information which ring has been measured for which k_z position\n",
    "Circles_Per_kz_Matrix = Parameters['AngIntsPerPartEnc'][0,0] # first index is k_z position, second index ring index (ascending radius)\n",
    "\n",
    "# extract number of kz positons and number of rings\n",
    "number_of_rings = Circles_Per_kz_Matrix.shape[1]\n",
    "number_of_kz = Circles_Per_kz_Matrix.shape[0]\n",
    "\n",
    "# extract number of repitions (big T)\n",
    "num_time_steps = Parameters['nRep'][0,0][0][0]"
   ]
  },
  {
   "cell_type": "code",
   "execution_count": 40,
   "id": "92825b93",
   "metadata": {},
   "outputs": [
    {
     "data": {
      "text/plain": [
       "39"
      ]
     },
     "execution_count": 40,
     "metadata": {},
     "output_type": "execute_result"
    }
   ],
   "source": [
    "number_of_kz"
   ]
  },
  {
   "cell_type": "markdown",
   "id": "2fd050e2",
   "metadata": {},
   "source": [
    "# Compute how much percent of k-space is sampled at which k_z position"
   ]
  },
  {
   "cell_type": "code",
   "execution_count": 41,
   "id": "ca97296b",
   "metadata": {},
   "outputs": [
    {
     "name": "stderr",
     "output_type": "stream",
     "text": [
      "/tmp/ipykernel_2226489/3823841465.py:15: UserWarning: No artists with labels found to put in legend.  Note that artists whose label start with an underscore are ignored when legend() is called with no argument.\n",
      "  plt.legend()\n"
     ]
    },
    {
     "data": {
      "image/png": "[encoded data removed]",
      "text/plain": [
       "<Figure size 640x480 with 1 Axes>"
      ]
     },
     "metadata": {},
     "output_type": "display_data"
    }
   ],
   "source": [
    "Circles_Per_kz = np.zeros(number_of_kz)\n",
    "\n",
    "for i in range(0,number_of_kz):\n",
    "    Circles_Per_kz[i] = np.sum(Circles_Per_kz_Matrix[i])\n",
    "\n",
    "Percentage_Per_kz = 100*Circles_Per_kz / np.sum(Circles_Per_kz)\n",
    "\n",
    "plt.plot(Percentage_Per_kz)\n",
    "\n",
    "# Add labels and title\n",
    "plt.xlabel(\"k_z Position\")\n",
    "plt.ylabel(\"Percentage of k-space\")\n",
    "\n",
    "# Add a legend\n",
    "plt.legend()\n",
    "\n",
    "# Show the plot\n",
    "plt.show()"
   ]
  },
  {
   "cell_type": "markdown",
   "id": "aeaa17d3",
   "metadata": {},
   "source": [
    "**First step**\n",
    "\n",
    "Create a matrix with the matlab indices for each Ring. I accomplish this by using the matrix Circles_Per_kz_Matrix which is 1 at index i,j if the ith kz position was measured by ring j, and 0 else. I multiply this matrix by a matrix of shape 43x43 point wise (same shape) which has 1 in the first row 2 in the second row etc. It is important to note that the k_z positions are counted beginning from 1 not 0."
   ]
  },
  {
   "cell_type": "code",
   "execution_count": 42,
   "id": "3f1f70cf",
   "metadata": {},
   "outputs": [
    {
     "name": "stdout",
     "output_type": "stream",
     "text": [
      "[ 0  2  3  4  5  6  7  8  9 10 11 12 13 14 15 16 17 18 19 20 21 22 23 24\n",
      " 25 26 27 28 29 30 31 32 33 34 35 36 37 38  0]\n"
     ]
    }
   ],
   "source": [
    "Circles_Per_kz_Matrix[0,0]\n",
    "\n",
    "# Create a column vector of row numbers (starting from 1)\n",
    "n=number_of_kz\n",
    "row_numbers = np.arange(1, n + 1).reshape(n, 1)\n",
    "matrix = np.tile(row_numbers, (1, number_of_rings))\n",
    "matrix_inverse = 1 / matrix\n",
    "\n",
    "Sampled_Indices_Per_Ring = matrix * Circles_Per_kz_Matrix\n",
    "\n",
    "print(Sampled_Indices_Per_Ring[:,2])\n",
    "\n",
    "#Sampled_I_Per_Ring: This means e.g. Sampled_Indices_Per_Ring[:,0] gives all the k_z indizes (sstartng from 1 not 0 (!)) that have been sampled by Ring 0 etc."
   ]
  },
  {
   "cell_type": "markdown",
   "id": "8f1a5408",
   "metadata": {},
   "source": [
    "In here I save the minimum k_z positions that has been sampled per ring, again this starts at k_z = 0"
   ]
  },
  {
   "cell_type": "code",
   "execution_count": 43,
   "id": "ad5f6171",
   "metadata": {},
   "outputs": [],
   "source": [
    "\n",
    "Minimum_kz_position = np.zeros(number_of_rings)\n",
    "\n",
    "for i in range(0,number_of_rings):\n",
    "    Sampled_kz_ring_i = Sampled_Indices_Per_Ring[:,i]\n",
    "    first_nonzero = next((x for x in Sampled_kz_ring_i if x != 0), None)\n",
    "    Minimum_kz_position[i] = first_nonzero -1 #start at 0 not at 1"
   ]
  },
  {
   "cell_type": "code",
   "execution_count": 44,
   "id": "16bd358e",
   "metadata": {},
   "outputs": [
    {
     "data": {
      "text/plain": [
       "array([ 0.,  0.,  1.,  1.,  1.,  1.,  1.,  2.,  2.,  3.,  3.,  4.,  4.,\n",
       "        5.,  6.,  7.,  8.,  9., 11., 14.])"
      ]
     },
     "execution_count": 44,
     "metadata": {},
     "output_type": "execute_result"
    }
   ],
   "source": [
    "Minimum_kz_position"
   ]
  },
  {
   "cell_type": "markdown",
   "id": "d850ee80",
   "metadata": {},
   "source": [
    "# ***Creating apropritate data structure***\n",
    "\n",
    "Now I want to start to assemble which rings have actually been sampled. First I create a dictionary, containing 43 elements (rings) each containing a list of list (upper list 8 time steps, and then a list for what has been sampled at that time step by that ring). This is the format in which it is saved in matlab."
   ]
  },
  {
   "cell_type": "code",
   "execution_count": 45,
   "id": "124cee96",
   "metadata": {},
   "outputs": [
    {
     "name": "stdout",
     "output_type": "stream",
     "text": [
      "File SmallMatrix_AF4.mat does not exist.\n"
     ]
    }
   ],
   "source": [
    "num_rings = number_of_rings\n",
    "\n",
    "# Create a dictionary to hold the sampling info for each ring.\n",
    "# Keys are ring numbers (here, 0-indexed; you can adjust to 1-indexed if you prefer).\n",
    "# Each value is a list of length num_time_steps, where each element is a list of indices\n",
    "# for that ring that are sampled at that time step.\n",
    "ring_sampling = {}\n",
    "\n",
    "for ring in range(num_rings):\n",
    "    # For each ring, initialize an empty list for each time step.\n",
    "    ring_sampling[ring] = [[] for _ in range(num_time_steps)]\n",
    "\n",
    "ring_undersampling = copy.deepcopy(ring_sampling)\n",
    "\n",
    "# Example: suppose for ring 0 at time step 0 we sampled indices [1, 3, 5]\n",
    "#ring_sampling[0][0] = [1, 3, 5]\n",
    "\n",
    "# And perhaps for ring 0 at time step 1 we sampled indices [2, 4]\n",
    "#ring_sampling[0][1] = [2, 4]\n",
    "\n",
    "#ring_sampling\n",
    " ##### LOAD IF FILE ALREADY AVAILABE\"\n",
    "\n",
    "# Define the file name\n",
    "\n",
    "# Check if the file exists\n",
    "if os.path.isfile(filename):\n",
    "    helper = loadmat(filename)['csiUS'][0][0][0][0]\n",
    "    \n",
    "    for ring in range(num_rings):\n",
    "        if len(helper[ring]) > 0:\n",
    "            for T in range(num_time_steps):\n",
    "                if len(helper[ring][0]) > T:\n",
    "                    if len(helper[ring][0][T]) > 0:\n",
    "                        ring_undersampling[ring][T] = helper[ring][0][T][0]\n",
    "                    else:\n",
    "                        print(f\"Empty list at helper[{ring}][0][{T}]\")\n",
    "                else:\n",
    "                    print(f\"Index T={T} is out of bounds for helper[{ring}][0]\")\n",
    "        else:\n",
    "            print(f\"Empty list at helper[{ring}]\")\n",
    "    for ring in range(0,num_rings): ## this loop converts everything back to the original python format, note that matlab saved this is a different format\n",
    "        for T in range(0,num_time_steps):\n",
    "            ring_undersampling[ring][T] = ring_undersampling[ring][T] + (np.ones((len(ring_undersampling[ring][T])))*Minimum_kz_position[ring])\n",
    "            \n",
    "    ring_undersampling = flatten_arrays_to_lists(ring_undersampling)\n",
    "else:\n",
    "    print(f\"File {filename} does not exist.\")\n",
    "    "
   ]
  },
  {
   "cell_type": "markdown",
   "id": "3be12793",
   "metadata": {},
   "source": [
    "Next, I actually save something to that structure. I start with the fully sampled case."
   ]
  },
  {
   "cell_type": "code",
   "execution_count": 46,
   "id": "a2815be1",
   "metadata": {},
   "outputs": [],
   "source": [
    "for ring in range(0, number_of_rings):\n",
    "    for T in range(0,num_time_steps):\n",
    "        ring_sampling[ring][T] = np.array([x for x in Sampled_Indices_Per_Ring[:,ring] if x !=0]).reshape(-1)"
   ]
  },
  {
   "cell_type": "code",
   "execution_count": 47,
   "id": "0c51622d",
   "metadata": {},
   "outputs": [
    {
     "name": "stdout",
     "output_type": "stream",
     "text": [
      "Fully sampled percentage\n",
      "100.0\n",
      "empty structure:\n",
      "0.0\n"
     ]
    }
   ],
   "source": [
    "def percentage_k_space(array, T):\n",
    "    count = 0\n",
    "    for i in range(0,number_of_rings):\n",
    "        count = count + len(array[i][T])\n",
    "        \n",
    "    return 100*(count/np.sum(Circles_Per_kz_Matrix)) \n",
    "\n",
    "print('Fully sampled percentage')\n",
    "print(percentage_k_space(ring_sampling, 0))\n",
    "\n",
    "print('empty structure:')\n",
    "print(percentage_k_space(ring_undersampling, 0))"
   ]
  },
  {
   "cell_type": "code",
   "execution_count": 48,
   "id": "befda8ef",
   "metadata": {},
   "outputs": [],
   "source": [
    "import numpy as np\n",
    "\n",
    "def sample_candidate(r_max, num_rings, kz_min, kz_max, r_min = 0):\n",
    "    \"\"\"\n",
    "    Sample a candidate (ring, k_z) pair based on polar coordinates.\n",
    "    \n",
    "    Parameters:\n",
    "      r_max    : maximum 3D distance from center (tunable based on k-space extent)\n",
    "      num_rings: total number of rings (e.g., 43)\n",
    "      kz_min   : minimum k_z index value (e.g., 0)\n",
    "      kz_max   : maximum k_z index value (e.g., maximum index available per ring)\n",
    "      \n",
    "    Returns:\n",
    "      candidate_ring: integer ring index in [0, num_rings-1]\n",
    "      candidate_kz  : integer k_z index in [kz_min, kz_max]\n",
    "    \"\"\"\n",
    "    # Randomly choose r and theta:\n",
    "    r = np.random.uniform(r_min, r_max)\n",
    "    theta = np.random.uniform(-np.pi/2, np.pi/2)\n",
    "    \n",
    "    # Compute candidate values:\n",
    "    # Note: cos(theta) is always positive in [-pi/2, pi/2], so candidate_ring is nonnegative.\n",
    "    candidate_ring_float = r * np.cos(theta)\n",
    "    candidate_kz_float = kz_max*r * np.sin(theta)/(2*r_max) # divide by r_max and multiply by kz_max to get right kz range\n",
    "    \n",
    "    # Round to nearest integer.\n",
    "    candidate_ring = int(np.round(candidate_ring_float))\n",
    "    candidate_kz = int(np.round(candidate_kz_float))\n",
    "    \n",
    "    # For the ring index, we assume the center corresponds to ring 0.\n",
    "    # If your rings are defined from 0 to num_rings-1 (with 0 being the center),\n",
    "    # you may leave candidate_ring as is. Otherwise, shift accordingly.\n",
    "    # Here, we simply bound it to valid indices.\n",
    "    candidate_ring = max(0, min(candidate_ring, num_rings - 1))\n",
    "    \n",
    "    # For k_z, assume that k_z = 0 is at the center.\n",
    "    # Shift candidate_kz so that the center index is at (kz_min + kz_max)/2.\n",
    "    kz_center = (kz_min + kz_max) / 2\n",
    "    candidate_kz += int(np.round(kz_center))\n",
    "    candidate_kz = max(kz_min, min(candidate_kz, kz_max))\n",
    "    \n",
    "    return candidate_ring, candidate_kz\n",
    "\n",
    "# --- Example usage in an undersampling loop ---\n",
    "\n",
    "# Parameters (tune these based on your k-space geometry)\n",
    "num_rings = number_of_rings\n",
    "r_max = number_of_rings               # maximum \"3D distance\" (adjust as appropriate)\n",
    "kz_min = 1               # lowest k_z index\n",
    "kz_max = number_of_kz             # highest k_z index for a given ring (example)\n",
    "\n",
    "# Suppose you have structures 'ring_sampling' and 'ring_undersampling'\n",
    "# For this example, assume ring_sampling[ring][T] is a list of available k_z indices\n",
    "# for ring (and time point T), and ring_undersampling holds the ones already sampled.\n",
    "# Also assume you have a function percentage_k_space(undersampling, T) that returns the\n",
    "# percentage of k-space sampled for time T.\n",
    "\n",
    "num_timepoints = num_time_steps\n",
    "target_percentage = 100*(1/AF)  # e.g., 50%\n",
    "\n",
    "for T in range(num_timepoints):\n",
    "    # Continue sampling until your target percentage is reached.\n",
    "    while percentage_k_space(ring_undersampling, T) < target_percentage:\n",
    "        # Sample a candidate (ring, k_z) pair\n",
    "        cand_ring, cand_kz = sample_candidate(r_max, num_rings, kz_min, kz_max)\n",
    "        \n",
    "        # Check if this candidate exists in your ring_sampling structure and\n",
    "        # hasn't been selected yet.\n",
    "        if cand_kz in ring_sampling[cand_ring][T]:\n",
    "            if cand_kz not in ring_undersampling[cand_ring][T]:\n",
    "                ring_undersampling[cand_ring][T].append(cand_kz)\n",
    "                ring_undersampling[cand_ring][T].sort()\n",
    "\n",
    "import numpy as np\n",
    "\n",
    "# Ensure all entries in ring_undersampling are column vectors\n",
    "for T in range(num_timepoints):\n",
    "    for k in range(number_of_rings):  # No need to explicitly write (0,43)\n",
    "        if isinstance(ring_undersampling[k][T], list):  \n",
    "            # Convert lists to NumPy arrays first\n",
    "            ring_undersampling[k][T] = np.array(ring_undersampling[k][T])\n",
    "\n",
    "        if ring_undersampling[k][T].ndim == 1:  # Ensure it's a 1D array before reshaping\n",
    "            ring_undersampling[k][T] = ring_undersampling[k][T].reshape(-1) # Column vector"
   ]
  },
  {
   "cell_type": "code",
   "execution_count": 49,
   "id": "eb68cf58",
   "metadata": {},
   "outputs": [
    {
     "data": {
      "text/plain": [
       "dict"
      ]
     },
     "execution_count": 49,
     "metadata": {},
     "output_type": "execute_result"
    }
   ],
   "source": [
    "type(ring_undersampling)"
   ]
  },
  {
   "cell_type": "code",
   "execution_count": 50,
   "id": "02232462",
   "metadata": {},
   "outputs": [
    {
     "data": {
      "text/plain": [
       "np.float64(25.0814332247557)"
      ]
     },
     "execution_count": 50,
     "metadata": {},
     "output_type": "execute_result"
    }
   ],
   "source": [
    "T = 2\n",
    "\n",
    "percentage_k_space(ring_undersampling, T)"
   ]
  },
  {
   "cell_type": "code",
   "execution_count": 51,
   "id": "72ff1ba2",
   "metadata": {},
   "outputs": [],
   "source": [
    "ring_undersampling_final_format = copy.deepcopy(ring_undersampling)\n",
    "\n",
    "for ring in range(0,number_of_rings):\n",
    "    for T in range(0,num_timepoints):\n",
    "        ring_undersampling_final_format[ring][T] = ring_undersampling_final_format[ring][T] - (np.ones((len(ring_undersampling_final_format[ring][T])))*Minimum_kz_position[ring])"
   ]
  },
  {
   "cell_type": "markdown",
   "id": "8f91b7ea",
   "metadata": {},
   "source": [
    "# ***Save to matlab file***"
   ]
  },
  {
   "cell_type": "code",
   "execution_count": 52,
   "id": "0a335e95",
   "metadata": {},
   "outputs": [],
   "source": [
    "num_rings = number_of_rings\n",
    "\n",
    "# Assuming ring_undersampling_final_format is a dictionary with keys 0, 1, ..., 42,\n",
    "# where each ring_undersampling_final_format[ring] is a list (of 8 time steps) containing the sampled indices for that ring.\n",
    "# Create an empty NumPy object array with shape (1, num_rings)\n",
    "data_array = np.empty((1, num_rings), dtype=object)\n",
    "\n",
    "# Fill the array with your data from each ring\n",
    "for ring in range(num_rings):\n",
    "    data_array[0, ring] = np.array(ring_undersampling_final_format[ring], dtype=object)\n",
    "\n",
    "# Create a structure similar to your MATLAB structure, e.g., csi.Data\n",
    "csiUndersampled = {'Data': data_array}\n",
    "\n",
    "import os\n",
    "import scipy.io as sio\n",
    "\n",
    "if not os.path.exists(filename):\n",
    "    sio.savemat(filename, {'csiUS': csiUndersampled})"
   ]
  },
  {
   "cell_type": "markdown",
   "id": "02fc1d9d",
   "metadata": {},
   "source": [
    "# ***Visualize undersampling pattern***"
   ]
  },
  {
   "cell_type": "markdown",
   "id": "aa0f8aa1",
   "metadata": {},
   "source": [
    "I transform ring_undersampling into an array of shape 43x43x8 such that it contains 1 if ring i with kz index j has been measured at time t, 0 otherwise.\n"
   ]
  },
  {
   "cell_type": "code",
   "execution_count": 53,
   "id": "f537537b",
   "metadata": {},
   "outputs": [
    {
     "data": {
      "image/png": "[encoded data removed]",
      "text/plain": [
       "<Figure size 1600x800 with 8 Axes>"
      ]
     },
     "metadata": {},
     "output_type": "display_data"
    }
   ],
   "source": [
    "import numpy as np\n",
    "import scipy.io as sio  # if you want to save the result for Matlab\n",
    "\n",
    "# Create a 43x43x8 array filled with zeros\n",
    "A = np.zeros((num_rings, number_of_kz, num_time_steps), dtype=int)\n",
    "\n",
    "# Loop through each ring (key) in the dictionary\n",
    "for i in range(0, num_rings):          # Keys are 1-indexed: 1 to 43\n",
    "    for t in range(num_time_steps):          # There are 8 timesteps (0-indexed in Python)\n",
    "        # For each sampled ring index j at time t, mark it in the array.\n",
    "        for j in ring_undersampling[i][t]:\n",
    "            A[i, int(j)-1, t] = 1  # Subtract 1 to convert to Python's 0-indexing\n",
    "\n",
    "# Optionally, if you want to save the array to a .mat file for Matlab:\n",
    "\n",
    "import matplotlib.pyplot as plt\n",
    "\n",
    "# Create a figure with 2 rows and 4 columns\n",
    "fig, axes = plt.subplots(nrows=2, ncols=4, figsize=(16, 8))\n",
    "axes = axes.flatten()  # Flatten the array for easier iteration\n",
    "\n",
    "# Loop over the 8 timesteps and plot the corresponding transposed 43x43 data\n",
    "for t in range(num_time_steps):\n",
    "    ax = axes[t]\n",
    "    # Transpose the 43x43 slice to swap the first two axes and set origin to lower left\n",
    "    im = ax.imshow(A[:, :, t].T, origin='lower', cmap='viridis', interpolation='none', aspect='auto')\n",
    "    \n",
    "    # Set the title and labels\n",
    "    ax.set_title(f\"sampled rings at T = {t}\")\n",
    "    ax.set_xlabel(\"Ring index\")\n",
    "    ax.set_ylabel(\"k_z index\")\n",
    "    \n",
    "    # Optionally, add a colorbar for reference\n",
    "    #fig.colorbar(im, ax=ax, shrink=0.7)\n",
    "\n",
    "# Adjust layout for better spacing\n",
    "plt.tight_layout()\n",
    "plt.show()\n",
    "\n"
   ]
  },
  {
   "cell_type": "code",
   "execution_count": 54,
   "id": "52c0c866",
   "metadata": {},
   "outputs": [
    {
     "data": {
      "image/png": "[encoded data removed]",
      "text/plain": [
       "<Figure size 800x600 with 1 Axes>"
      ]
     },
     "metadata": {},
     "output_type": "display_data"
    }
   ],
   "source": [
    "import matplotlib.pyplot as plt\n",
    "import numpy as np\n",
    "\n",
    "plt.figure(figsize=(8, 6))\n",
    "# Display the matrix without transposing: \n",
    "# this will put the k_z index (second dimension) on the x-axis,\n",
    "# and the ring index (first dimension) on the y-axis.\n",
    "im = plt.imshow(Circles_Per_kz_Matrix, origin='lower', cmap='viridis', \n",
    "                interpolation='none', aspect='auto')\n",
    "\n",
    "plt.title(\"Fully Sampled Rings\")\n",
    "plt.xlabel(\"Ring index\")\n",
    "plt.ylabel(\"k_z index\")\n",
    "plt.show()\n"
   ]
  }
 ],
 "metadata": {
  "kernelspec": {
   "display_name": "Python 3",
   "language": "python",
   "name": "python3"
  },
  "language_info": {
   "codemirror_mode": {
    "name": "ipython",
    "version": 3
   },
   "file_extension": ".py",
   "mimetype": "text/x-python",
   "name": "python",
   "nbconvert_exporter": "python",
   "pygments_lexer": "ipython3",
   "version": "3.10.17"
  }
 },
 "nbformat": 4,
 "nbformat_minor": 5
}
