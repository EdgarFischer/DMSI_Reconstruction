{
 "cells": [
  {
   "cell_type": "markdown",
   "id": "39609cec",
   "metadata": {},
   "source": [
    "P03 needs special treatment, due to 44 rings instead of 43"
   ]
  },
  {
   "cell_type": "code",
   "execution_count": 1,
   "id": "5eaf61bf",
   "metadata": {},
   "outputs": [],
   "source": [
    "import sys\n",
    "import os\n",
    "\n",
    "sys.path.append('../../../scripts')\n",
    "sys.path.append('../../../models')\n",
    "\n",
    "import copy\n",
    "os.environ[\"CUDA_VISIBLE_DEVICES\"]= '2' #, this way I would choose GPU 3 to do the work\n",
    "\n",
    "from scipy.io import loadmat\n",
    "import numpy as np\n",
    "import matplotlib.pyplot as plt\n",
    "\n",
    "os.environ[\"CUDA_VISIBLE_DEVICES\"]= '0' #, this way I would choose GPU 3 to do the work\n",
    "\n",
    "import torch\n",
    "import numpy as np\n",
    "import time\n",
    "import h5py\n",
    "import matplotlib.pyplot as plt\n",
    "from scipy.ndimage import zoom # for compressing images / only for testing purposes to speed up NN training\n",
    "from scipy.fft import fft2, fftshift\n",
    "from scipy.io import loadmat\n",
    "from torch.utils.data import DataLoader, Subset\n",
    "import torch.optim as optim\n",
    "import torch.nn as nn\n",
    "from scipy.io import loadmat\n",
    "import random\n",
    "\n",
    "from data_preparation import *\n",
    "import plotly.graph_objects as gorings\n",
    "import scipy.io as sio"
   ]
  },
  {
   "cell_type": "code",
   "execution_count": 18,
   "id": "328df27e",
   "metadata": {},
   "outputs": [
    {
     "data": {
      "text/plain": [
       "(43, 44)"
      ]
     },
     "execution_count": 18,
     "metadata": {},
     "output_type": "execute_result"
    }
   ],
   "source": [
    "Circles_Per_kz_Matrix.shape"
   ]
  },
  {
   "cell_type": "markdown",
   "id": "d245dae0",
   "metadata": {},
   "source": [
    "In the code below, I compute exactly how much percent of k-space is sampled at which k_z position"
   ]
  },
  {
   "cell_type": "code",
   "execution_count": 19,
   "id": "4f22efdb",
   "metadata": {},
   "outputs": [
    {
     "name": "stderr",
     "output_type": "stream",
     "text": [
      "No handles with labels found to put in legend.\n"
     ]
    },
    {
     "data": {
      "image/png": "[encoded data removed]",
      "text/plain": [
       "<Figure size 432x288 with 1 Axes>"
      ]
     },
     "metadata": {
      "needs_background": "light"
     },
     "output_type": "display_data"
    }
   ],
   "source": [
    "mat_data_8 = loadmat('../../fn_vb_DMI_CRT_P03/CombinedCSI_full_rank.mat')\n",
    "csi_data = mat_data_8['csi']\n",
    "Data = csi_data['Data'][0,0]\n",
    "\n",
    "Par = csi_data['Par'][0,0]\n",
    "\n",
    "Circles_Per_kz_Matrix = Par['AngIntsPerPartEnc'][0,0]\n",
    "\n",
    "number_of_rings = Circles_Per_kz_Matrix.shape[1]\n",
    "number_of_kz = Circles_Per_kz_Matrix.shape[0]\n",
    "\n",
    "Circles_Per_kz = np.zeros(number_of_kz)\n",
    "\n",
    "for i in range(0,number_of_kz):\n",
    "    Circles_Per_kz[i] = np.sum(Circles_Per_kz_Matrix[i])\n",
    "\n",
    "Percentage_Per_kz = 100*Circles_Per_kz / np.sum(Circles_Per_kz)\n",
    "\n",
    "plt.plot(Percentage_Per_kz)\n",
    "\n",
    "# Add labels and title\n",
    "plt.xlabel(\"k_z Position\")\n",
    "plt.ylabel(\"Percentage of k-space\")\n",
    "\n",
    "# Add a legend\n",
    "plt.legend()\n",
    "\n",
    "# Show the plot\n",
    "plt.show()"
   ]
  },
  {
   "cell_type": "code",
   "execution_count": 20,
   "id": "bf45fa54",
   "metadata": {},
   "outputs": [
    {
     "data": {
      "text/plain": [
       "1466.0"
      ]
     },
     "execution_count": 20,
     "metadata": {},
     "output_type": "execute_result"
    }
   ],
   "source": [
    "np.sum(Circles_Per_kz)"
   ]
  },
  {
   "cell_type": "markdown",
   "id": "a5fce922",
   "metadata": {},
   "source": [
    "Compute how many central planes amount to ~20% of the data"
   ]
  },
  {
   "cell_type": "code",
   "execution_count": 3,
   "id": "7a1ff3b6",
   "metadata": {},
   "outputs": [
    {
     "name": "stdout",
     "output_type": "stream",
     "text": [
      "20\n",
      "22\n",
      "19\n",
      "23\n",
      "15.006821282401091\n"
     ]
    }
   ],
   "source": [
    "x = 0\n",
    "x = x + Percentage_Per_kz[21]\n",
    "for i in range(1,3):\n",
    "    x = x + Percentage_Per_kz[21-i]+Percentage_Per_kz[21+i]\n",
    "    print(21-i)\n",
    "    print(21+i)\n",
    "    \n",
    "print(x)"
   ]
  },
  {
   "cell_type": "code",
   "execution_count": 21,
   "id": "a4383ddc",
   "metadata": {},
   "outputs": [],
   "source": [
    "#### Next I want to undersample in a complementary fashion. I generate a pool that has all indices that are not sampled \n",
    "#### except for ones that are always kept across time steps. \n",
    "\n",
    "def pool(kept_Indices, Number_Circles):\n",
    "    all_indices = np.arange(Number_Circles)  # Generate array [0, 1, ..., Number_Circles-1]\n",
    "    return np.delete(all_indices, kept_Indices)  # Remove indices in kept_Indices"
   ]
  },
  {
   "cell_type": "code",
   "execution_count": 22,
   "id": "daddfef2",
   "metadata": {},
   "outputs": [
    {
     "name": "stdout",
     "output_type": "stream",
     "text": [
      "[7. 1. 2. 2. 1. 1. 1. 1. 1. 1. 1. 1. 1. 1. 1. 0. 1. 1. 1. 8. 8. 8. 8. 8.\n",
      " 1. 0. 1. 1. 1. 0. 1. 0. 1. 1. 0. 2. 1. 1. 1. 0. 1. 2. 8.]\n",
      "Total percent sampled over time:\n",
      "84.65211459754434\n"
     ]
    }
   ],
   "source": [
    "kspace_percentage = Percentage_Per_kz\n",
    "\n",
    "# fixed_kz_indices = list(range(19, 24)) ## this is always sampled\n",
    "\n",
    "# target_percentage = 25\n",
    "\n",
    "# #### Pool keeps track of which k_z indices have already been sampled; it contains the UNSAMPLED indices\n",
    "# Pool = pool(fixed_kz_indices, number_of_kz)\n",
    "\n",
    "# Pool_fixed = pool(fixed_kz_indices, number_of_kz) # this second pool never shrinks. If at a certain timesteps\n",
    "# # it is not managed to draw from the normal Pool anymore (because percentage contributions are too high)\n",
    "# #its still allowed to make 20 attempts from the fixed pool, to be able to sample even more\n",
    "\n",
    "\n",
    "\n",
    "# ## make sure you cannot have more than 100 attempts to select planes\n",
    "# dummy = 0 \n",
    "# covered_percentage =  np.sum(kspace_percentage[fixed_kz_indices])   # ~29%\n",
    "\n",
    "# Mask_kz_T = np.zeros((number_of_kz,8))\n",
    "# Extra_Attempt = 0## allow up to 20 times to sample even closer to desired AF  \n",
    "# for T in range(0,8):\n",
    "#     temp_mask = np.zeros_like(kspace_percentage, dtype=int)  ## 0 to 42, one index per k_z position\n",
    "#     temp_mask[fixed_kz_indices] = 1  # always include fixed planes\n",
    "    \n",
    "#     dummy = 0\n",
    "#     covered_percentage =  np.sum(kspace_percentage[fixed_kz_indices])   # ~29%\n",
    "#     while dummy < 1000:\n",
    "#         dummy = dummy +1\n",
    "#         Extra_Attempt = 0\n",
    "\n",
    "#         if len(Pool) == 0: # pool is refreshed if it is empty\n",
    "#             Pool = pool(fixed_kz_indices, number_of_kz)\n",
    "\n",
    "#         kept_index = random.randint(0, len(Pool)-1)  # randomly select k_z position to keep\n",
    "#         additional_coverage = kspace_percentage[Pool[kept_index]] # this is how much percent of kspace this position covers\n",
    "       \n",
    "        \n",
    "#         if covered_percentage + additional_coverage < target_percentage:\n",
    "#             temp_mask[Pool[kept_index]] = 1\n",
    "#             Pool = np.delete(Pool,kept_index)\n",
    "#             covered_percentage = covered_percentage + additional_coverage\n",
    "#         else:\n",
    "#             while Extra_Attempt <10: # try to draw from fixed pool\n",
    "#                 kept_index = random.randint(0, len(Pool_fixed)-1)\n",
    "#                 additional_coverage = kspace_percentage[Pool_fixed[kept_index]]\n",
    "\n",
    "#                 Extra_Attempt = Extra_Attempt +1\n",
    "\n",
    "#                 if covered_percentage + additional_coverage < target_percentage and temp_mask[Pool_fixed[kept_index]] == 0:\n",
    "#                     temp_mask[Pool_fixed[kept_index]] = 1\n",
    "#                     covered_percentage = covered_percentage + additional_coverage\n",
    "\n",
    "            \n",
    "#     Mask_kz_T[:,T] = temp_mask\n",
    "\n",
    "# for T in range(0,8):\n",
    "#     print(np.sum(Mask_kz_T[:,T]*kspace_percentage))\n",
    "    \n",
    "# for T in range(0,8):\n",
    "#     print(f'Sampled k_z Positions time step {T+1}:')\n",
    "#     print(np.where(Mask_kz_T[:,T])[0])\n",
    "    \n",
    "# file_name = \"Sampling_Patterns_Regular/Mask_AF4.npy\"    \n",
    "\n",
    "# # # Check if the file exists\n",
    "# if os.path.exists(file_name):\n",
    "#      print(f\"File '{file_name}' already exists. Skipping save.\")\n",
    "        \n",
    "# else:\n",
    "# #     # Save the Mask array to .mat\n",
    "#     np.save(file_name, Mask_kz_T)\n",
    "#     print(f\"File '{file_name}' saved successfully.\")\n",
    "\n",
    "Mask_kz_T = np.load(\"Sampling_Patterns_Regular/Mask_AF4.npy\")\n",
    "\n",
    "Mask_kz_T_Test = np.zeros((43))\n",
    "for i in range(0,8):\n",
    "    Mask_kz_T_Test = Mask_kz_T_Test + Mask_kz_T[:,i]\n",
    "    \n",
    "print(Mask_kz_T_Test)  ### if there are no 0s it means everything was sampled at least once\n",
    "\n",
    "\n",
    "np.where(Mask_kz_T_Test == 0)[0]\n",
    "kspace_percentage[np.where(Mask_kz_T_Test == 0)[0]]\n",
    "print(\"Total percent sampled over time:\")\n",
    "print(100-np.sum(kspace_percentage[np.where(Mask_kz_T_Test == 0)[0]]))"
   ]
  },
  {
   "cell_type": "markdown",
   "id": "d2ad417a",
   "metadata": {},
   "source": [
    "**Reshaping**\n",
    "\n",
    "The above code accomplishes that I have the complete k_space mask information in the format (k_z, T). If Mask[i,j] = 1, it means k_z position can be sampled at timestep T, otherwise not. However, in Matlab the data is saved is saved as csi.Data with the following format:\n",
    "\n",
    "size(csi.Data) = 1 43; a list of 43 entries, one for each RING. Then size(csi.Data{i}) = 526 1 N 1 96 1 8; where N is the number of k_z partitions this ring appears in. Unfortunately, N is not directly the k_z index, but rather N = 1 corresponds to the smallest k_z index that has been measured etc. So what I want is this:\n",
    "\n",
    "**Goal:**\n",
    "\n",
    "I create a dictionary structure \"ring_sampling\" that mirrors the matlabl structure. So ring_sampling[i] is a list of list for ring i.\n",
    "The outer list has 8 elements, for the 8 time steps, then each of these 8 inner lists has the indices that should be sampled."
   ]
  },
  {
   "cell_type": "markdown",
   "id": "7159cf70",
   "metadata": {},
   "source": [
    "**First step**\n",
    "\n",
    "Create a matrix with the matlab indices for each Ring. I accomplish this by using the matrix Circles_Per_kz_Matrix which is 1 at index i,j if the ith kz position was measured by ring j, and 0 else. I multiply this matrix by a matrix of shape 43x43 point wise (same shape) which has 1 in the first row 2 in the second row etc. It is important to note that the k_z positions are counted beginning from 1 not 0."
   ]
  },
  {
   "cell_type": "code",
   "execution_count": 41,
   "id": "eb1e7c47",
   "metadata": {},
   "outputs": [
    {
     "name": "stdout",
     "output_type": "stream",
     "text": [
      "[ 0  0  0  0  0  0  0  0  0  0  0  0  0  0  0 16 17 18 19 20 21 22 23 24\n",
      " 25 26 27 28  0  0  0  0  0  0  0  0  0  0  0  0  0  0  0]\n"
     ]
    }
   ],
   "source": [
    "Circles_Per_kz_Matrix[0,0]\n",
    "\n",
    "# Create a column vector of row numbers (starting from 1)\n",
    "n=number_of_kz\n",
    "row_numbers = np.arange(1, n + 1).reshape(n, 1)\n",
    "matrix = np.tile(row_numbers, (1, number_of_rings))\n",
    "matrix_inverse = 1 / matrix\n",
    "\n",
    "Sampled_Indices_Per_Ring = matrix * Circles_Per_kz_Matrix\n",
    "\n",
    "print(Sampled_Indices_Per_Ring[:,42])\n",
    "\n",
    "#Sampled_Indices_Per_Ring: This means e.g. Sampled_Indices_Per_Ring[:,0] gives all the k_z indizes (sstartng from 1 not 0 (!)) that have been sampled by Ring 0 etc."
   ]
  },
  {
   "cell_type": "markdown",
   "id": "fced2c42",
   "metadata": {},
   "source": [
    "In here I save the minimum k_z positions that has been sampled per ring, again this starts at k_z = 0"
   ]
  },
  {
   "cell_type": "code",
   "execution_count": 46,
   "id": "83c0e381",
   "metadata": {},
   "outputs": [],
   "source": [
    "Minimum_kz_position = np.zeros(number_of_rings)\n",
    "\n",
    "for i in range(0,number_of_rings):\n",
    "    Sampled_kz_ring_i = Sampled_Indices_Per_Ring[:,i]\n",
    "    first_nonzero = next((x for x in Sampled_kz_ring_i if x != 0), None)\n",
    "    Minimum_kz_position[i] = first_nonzero -1 #start at 0 not at 1"
   ]
  },
  {
   "cell_type": "code",
   "execution_count": 47,
   "id": "38996da2",
   "metadata": {},
   "outputs": [
    {
     "data": {
      "text/plain": [
       "array([ 0.,  0.,  1.,  1.,  1.,  1.,  1.,  1.,  1.,  1.,  1.,  1.,  1.,\n",
       "        1.,  2.,  2.,  2.,  2.,  2.,  3.,  3.,  3.,  3.,  4.,  4.,  4.,\n",
       "        5.,  5.,  5.,  6.,  6.,  7.,  7.,  8.,  8.,  9.,  9., 10., 11.,\n",
       "       12., 13., 14., 15., 17.])"
      ]
     },
     "execution_count": 47,
     "metadata": {},
     "output_type": "execute_result"
    }
   ],
   "source": [
    "Minimum_kz_position"
   ]
  },
  {
   "cell_type": "markdown",
   "id": "48b8c651",
   "metadata": {},
   "source": [
    "# ***Creating apropritate data structure***\n",
    "\n",
    "Now I want to start to assemble which rings have actually been sampled. First I create a dictionary, containing 43 elements (rings) each containing a list of list (upper list 8 time steps, and then a list for what has been sampled at that time step by that ring). This is the format in which it is saved in matlab."
   ]
  },
  {
   "cell_type": "code",
   "execution_count": 48,
   "id": "b81795dd",
   "metadata": {},
   "outputs": [],
   "source": [
    "num_rings = number_of_rings\n",
    "num_time_steps = 8\n",
    "\n",
    "# Create a dictionary to hold the sampling info for each ring.\n",
    "# Keys are ring numbers (here, 0-indexed; you can adjust to 1-indexed if you prefer).\n",
    "# Each value is a list of length num_time_steps, where each element is a list of indices\n",
    "# for that ring that are sampled at that time step.\n",
    "ring_sampling = {}\n",
    "\n",
    "for ring in range(num_rings):\n",
    "    # For each ring, initialize an empty list for each time step.\n",
    "    ring_sampling[ring] = [[] for _ in range(num_time_steps)]\n",
    "\n",
    "# Example: suppose for ring 0 at time step 0 we sampled indices [1, 3, 5]\n",
    "#ring_sampling[0][0] = [1, 3, 5]\n",
    "\n",
    "# And perhaps for ring 0 at time step 1 we sampled indices [2, 4]\n",
    "#ring_sampling[0][1] = [2, 4]\n",
    "\n",
    "#ring_sampling"
   ]
  },
  {
   "cell_type": "markdown",
   "id": "b335269a",
   "metadata": {},
   "source": [
    "Next, I actually save something to that structure. I start with the fully sampled case."
   ]
  },
  {
   "cell_type": "code",
   "execution_count": 49,
   "id": "ec575908",
   "metadata": {},
   "outputs": [],
   "source": [
    "for ring in range(0,number_of_rings):\n",
    "    for T in range(0,8):\n",
    "        ring_sampling[ring][T] = np.array([x for x in Sampled_Indices_Per_Ring[:,ring] if x !=0]).reshape(-1)\n",
    "\n",
    "ring_undersampling = copy.deepcopy(ring_sampling)"
   ]
  },
  {
   "cell_type": "code",
   "execution_count": 53,
   "id": "0504b03a",
   "metadata": {},
   "outputs": [
    {
     "data": {
      "text/plain": [
       "array([18, 19, 20, 21, 22, 23, 24, 25, 26])"
      ]
     },
     "execution_count": 53,
     "metadata": {},
     "output_type": "execute_result"
    }
   ],
   "source": [
    "ring_sampling[43][0]"
   ]
  },
  {
   "cell_type": "markdown",
   "id": "d76801f1",
   "metadata": {},
   "source": [
    "# ***Undersampling***\n",
    "\n",
    "Now the above dictionary has the complete information from the fully sampled case. Now I want to apply undersampling, by combining my knowledge of Mask_kz_T with the above case. All k_z indices not appearing in the mask are simply deleted."
   ]
  },
  {
   "cell_type": "code",
   "execution_count": 54,
   "id": "2696a527",
   "metadata": {},
   "outputs": [],
   "source": [
    "for ring in range(0,number_of_rings):\n",
    "    for T in range(0,8):\n",
    "        ### delete everything that has not been sampled\n",
    "        for kz in range(0,len(Mask_kz_T[:,T])):\n",
    "            if  Mask_kz_T[kz,T] == 0:\n",
    "                deleted_kz = kz +1 ### note that in the ring structure the kz indices started at 1\n",
    "                ring_undersampling[ring][T] = ring_undersampling[ring][T][ring_undersampling[ring][T] != deleted_kz]"
   ]
  },
  {
   "cell_type": "markdown",
   "id": "9035bb4b",
   "metadata": {},
   "source": [
    "# ***Final conversion***\n",
    "\n",
    "Here, I finally convert this to the format saved in matlab, where within each ring, index 1 refers to the smallest measured k_z position for that ring etc. I do this by subtracting the minimum k_z position saved earlier"
   ]
  },
  {
   "cell_type": "code",
   "execution_count": 55,
   "id": "a5c5464a",
   "metadata": {},
   "outputs": [],
   "source": [
    "ring_undersampling_final_format = copy.deepcopy(ring_undersampling)\n",
    "\n",
    "for ring in range(0,number_of_rings):\n",
    "    for T in range(0,8):\n",
    "        ring_undersampling_final_format[ring][T] = ring_undersampling_final_format[ring][T] - (np.ones((len(ring_undersampling_final_format[ring][T])))*Minimum_kz_position[ring])"
   ]
  },
  {
   "cell_type": "code",
   "execution_count": 56,
   "id": "7452e45e",
   "metadata": {},
   "outputs": [
    {
     "data": {
      "text/plain": [
       "[array([ 8.,  9., 20., 21., 22., 23., 24., 29., 36., 43.]),\n",
       " array([ 1.,  4., 13., 20., 21., 22., 23., 24., 33., 36., 43.]),\n",
       " array([ 1.,  7., 15., 20., 21., 22., 23., 24., 31., 38., 43.]),\n",
       " array([ 1.,  5., 11., 18., 20., 21., 22., 23., 24., 37., 43.]),\n",
       " array([ 1.,  4.,  6., 20., 21., 22., 23., 24., 25., 34., 43.]),\n",
       " array([ 1.,  2., 17., 20., 21., 22., 23., 24., 27., 41., 42., 43.]),\n",
       " array([ 1.,  3., 12., 14., 19., 20., 21., 22., 23., 24., 43.]),\n",
       " array([ 1.,  3., 10., 20., 21., 22., 23., 24., 28., 39., 42., 43.])]"
      ]
     },
     "execution_count": 56,
     "metadata": {},
     "output_type": "execute_result"
    }
   ],
   "source": [
    "ring_undersampling_final_format[0]"
   ]
  },
  {
   "cell_type": "markdown",
   "id": "5d0a9ad5",
   "metadata": {},
   "source": [
    "# ***Save to matlab file and numpy array***"
   ]
  },
  {
   "cell_type": "code",
   "execution_count": 57,
   "id": "8dc24a4b",
   "metadata": {},
   "outputs": [
    {
     "name": "stderr",
     "output_type": "stream",
     "text": [
      "/opt/conda/lib/python3.7/site-packages/scipy/io/matlab/mio5.py:450: VisibleDeprecationWarning: Creating an ndarray from ragged nested sequences (which is a list-or-tuple of lists-or-tuples-or ndarrays with different lengths or shapes) is deprecated. If you meant to do this, you must specify 'dtype=object' when creating the ndarray.\n",
      "  narr = np.asanyarray(source)\n"
     ]
    }
   ],
   "source": [
    "num_rings = number_of_rings\n",
    "\n",
    "# Assuming ring_undersampling_final_format is a dictionary with keys 0, 1, ..., 42,\n",
    "# where each ring_undersampling_final_format[ring] is a list (of 8 time steps) containing the sampled indices for that ring.\n",
    "# Create an empty NumPy object array with shape (1, num_rings)\n",
    "data_array = np.empty((1, num_rings), dtype=object)\n",
    "\n",
    "# Fill the array with your data from each ring\n",
    "for ring in range(num_rings):\n",
    "    data_array[0, ring] = ring_undersampling_final_format[ring]\n",
    "\n",
    "# Create a structure similar to your MATLAB structure, e.g., csi.Data\n",
    "csiUndersampled = {'Data': data_array}\n",
    "\n",
    "# Save the structure to a .mat file\n",
    "sio.savemat('csiUndersampled_AF4_P03.mat', {'csiUS': csiUndersampled})"
   ]
  },
  {
   "cell_type": "markdown",
   "id": "e4543b9a",
   "metadata": {},
   "source": [
    "# ***visualize undersampling pattern***"
   ]
  },
  {
   "cell_type": "code",
   "execution_count": null,
   "id": "580c33a0",
   "metadata": {},
   "outputs": [],
   "source": [
    "kspace_percentage\n",
    "\n",
    "# X-Achse (Index der Einträge)\n",
    "\n",
    "\n",
    "fig, axes = plt.subplots(2, 4, figsize=(16, 8), constrained_layout=True)\n",
    "\n",
    "# Plot each subplot\n",
    "for i, ax in enumerate(axes.flat):\n",
    "    y = np.arange(len(kspace_percentage))  # Index positions for the bars\n",
    "    ax.barh(y, kspace_percentage*Mask_kz_T[:,i])  # Create horizontal bar chart\n",
    "    ax.set_title(f\"Sampling Pattern at T = {i}\")  # Set title for each subplot\n",
    "    ax.set_ylabel(\"Index\")\n",
    "    ax.set_xlabel(\"Value\")\n",
    "\n",
    "# Show the plot\n",
    "plt.show()\n",
    "\n",
    "# Diagramm anzeigen\n",
    "plt.show()"
   ]
  },
  {
   "cell_type": "code",
   "execution_count": null,
   "id": "974eb45a",
   "metadata": {},
   "outputs": [],
   "source": [
    "csiUndersampled['Data'][0,20][2]"
   ]
  },
  {
   "cell_type": "markdown",
   "id": "0e5bfffc",
   "metadata": {},
   "source": [
    "**Reconstruction k-z Positions of Rings**"
   ]
  },
  {
   "cell_type": "code",
   "execution_count": 58,
   "id": "d563be90",
   "metadata": {},
   "outputs": [
    {
     "data": {
      "text/plain": [
       "array([array([[526,   1,  43,   1,  96,   1,   8]], dtype=uint16),\n",
       "       array([[526,   1,  43,   1,  96,   1,   8]], dtype=uint16),\n",
       "       array([[526,   1,  41,   1,  96,   1,   8]], dtype=uint16),\n",
       "       array([[526,   1,  41,   1,  96,   1,   8]], dtype=uint16),\n",
       "       array([[526,   1,  41,   1,  96,   1,   8]], dtype=uint16),\n",
       "       array([[526,   1,  41,   1,  96,   1,   8]], dtype=uint16),\n",
       "       array([[526,   1,  41,   1,  96,   1,   8]], dtype=uint16),\n",
       "       array([[526,   1,  41,   1,  96,   1,   8]], dtype=uint16),\n",
       "       array([[526,   1,  41,   1,  96,   1,   8]], dtype=uint16),\n",
       "       array([[526,   1,  41,   1,  96,   1,   8]], dtype=uint16),\n",
       "       array([[526,   1,  41,   1,  96,   1,   8]], dtype=uint16),\n",
       "       array([[526,   1,  41,   1,  96,   1,   8]], dtype=uint16),\n",
       "       array([[526,   1,  41,   1,  96,   1,   8]], dtype=uint16),\n",
       "       array([[526,   1,  41,   1,  96,   1,   8]], dtype=uint16),\n",
       "       array([[526,   1,  39,   1,  96,   1,   8]], dtype=uint16),\n",
       "       array([[526,   1,  39,   1,  96,   1,   8]], dtype=uint16),\n",
       "       array([[526,   1,  39,   1,  96,   1,   8]], dtype=uint16),\n",
       "       array([[526,   1,  39,   1,  96,   1,   8]], dtype=uint16),\n",
       "       array([[526,   1,  39,   1,  96,   1,   8]], dtype=uint16),\n",
       "       array([[526,   1,  37,   1,  96,   1,   8]], dtype=uint16),\n",
       "       array([[526,   1,  37,   1,  96,   1,   8]], dtype=uint16),\n",
       "       array([[526,   1,  37,   1,  96,   1,   8]], dtype=uint16),\n",
       "       array([[526,   1,  37,   1,  96,   1,   8]], dtype=uint16),\n",
       "       array([[526,   1,  35,   1,  96,   1,   8]], dtype=uint16),\n",
       "       array([[526,   1,  35,   1,  96,   1,   8]], dtype=uint16),\n",
       "       array([[526,   1,  35,   1,  96,   1,   8]], dtype=uint16),\n",
       "       array([[526,   1,  33,   1,  96,   1,   8]], dtype=uint16),\n",
       "       array([[526,   1,  33,   1,  96,   1,   8]], dtype=uint16),\n",
       "       array([[526,   1,  33,   1,  96,   1,   8]], dtype=uint16),\n",
       "       array([[526,   1,  31,   1,  96,   1,   8]], dtype=uint16),\n",
       "       array([[526,   1,  31,   1,  96,   1,   8]], dtype=uint16),\n",
       "       array([[526,   1,  29,   1,  96,   1,   8]], dtype=uint16),\n",
       "       array([[526,   1,  29,   1,  96,   1,   8]], dtype=uint16),\n",
       "       array([[526,   1,  27,   1,  96,   1,   8]], dtype=uint16),\n",
       "       array([[526,   1,  27,   1,  96,   1,   8]], dtype=uint16),\n",
       "       array([[526,   1,  25,   1,  96,   1,   8]], dtype=uint16),\n",
       "       array([[526,   1,  25,   1,  96,   1,   8]], dtype=uint16),\n",
       "       array([[526,   1,  23,   1,  96,   1,   8]], dtype=uint16),\n",
       "       array([[526,   1,  21,   1,  96,   1,   8]], dtype=uint16),\n",
       "       array([[526,   1,  19,   1,  96,   1,   8]], dtype=uint16),\n",
       "       array([[526,   1,  17,   1,  96,   1,   8]], dtype=uint16),\n",
       "       array([[526,   1,  15,   1,  96,   1,   8]], dtype=uint16),\n",
       "       array([[526,   1,  13,   1,  96,   1,   8]], dtype=uint16),\n",
       "       array([[526,   1,   9,   1,  96,   1,   8]], dtype=uint16)],\n",
       "      dtype=object)"
      ]
     },
     "execution_count": 58,
     "metadata": {},
     "output_type": "execute_result"
    }
   ],
   "source": [
    "mat_data_4 = loadmat('../../fn_vb_DMI_CRT_P03/CombinedCSI_full_rank.mat')\n",
    "csi_data = mat_data_4['csi']\n",
    "par_data = csi_data['Par'][0,0]\n",
    "Data_Size = par_data['DataSize'][0][0][0]\n",
    "Data_Size"
   ]
  },
  {
   "cell_type": "code",
   "execution_count": 63,
   "id": "2014a6af",
   "metadata": {},
   "outputs": [
    {
     "name": "stdout",
     "output_type": "stream",
     "text": [
      "Total Number of Rings\n",
      "1466\n",
      "Total Number of k-Space points\n",
      "771116\n"
     ]
    }
   ],
   "source": [
    "Number_Of_Rings = 0\n",
    "for i in range(0,number_of_rings):\n",
    "    Number_Of_Rings = Number_Of_Rings +Data_Size[i][0][2]\n",
    "print('Total Number of Rings')\n",
    "print(Number_Of_Rings)\n",
    "\n",
    "print('Total Number of k-Space points')\n",
    "print(Number_Of_Rings*526)"
   ]
  },
  {
   "cell_type": "code",
   "execution_count": 60,
   "id": "418f49bc",
   "metadata": {},
   "outputs": [
    {
     "data": {
      "text/plain": [
       "172"
      ]
     },
     "execution_count": 60,
     "metadata": {},
     "output_type": "execute_result"
    }
   ],
   "source": [
    "43*4"
   ]
  },
  {
   "cell_type": "code",
   "execution_count": 61,
   "id": "b9b4270c",
   "metadata": {},
   "outputs": [
    {
     "data": {
      "text/plain": [
       "0.11969380654140571"
      ]
     },
     "execution_count": 61,
     "metadata": {},
     "output_type": "execute_result"
    }
   ],
   "source": [
    "172/(1437)"
   ]
  },
  {
   "cell_type": "code",
   "execution_count": null,
   "id": "ff132171",
   "metadata": {},
   "outputs": [],
   "source": []
  }
 ],
 "metadata": {
  "kernelspec": {
   "display_name": "Python 3 (ipykernel)",
   "language": "python",
   "name": "python3"
  },
  "language_info": {
   "codemirror_mode": {
    "name": "ipython",
    "version": 3
   },
   "file_extension": ".py",
   "mimetype": "text/x-python",
   "name": "python",
   "nbconvert_exporter": "python",
   "pygments_lexer": "ipython3",
   "version": "3.7.10"
  }
 },
 "nbformat": 4,
 "nbformat_minor": 5
}
