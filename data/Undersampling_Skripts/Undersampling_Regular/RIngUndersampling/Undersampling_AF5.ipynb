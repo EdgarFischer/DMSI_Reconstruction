{
 "cells": [
  {
   "cell_type": "markdown",
   "id": "f147ff8c",
   "metadata": {},
   "source": [
    "In this file I prepare code for undersampling AF2 for actual k-space data (Rings); this will have to be transferred to matlab code.\n",
    "\n",
    "**Strategy**\n",
    "\n",
    "The strategy is as follows, I keep 15% of k-space data in the center of k-space (no undersampling, highest signal region).\n",
    "\n",
    "Then I randomly delete  rings (except for the 20%) until I have a ~50% of data in k-space. For the next time step I do the same\n",
    "but with the restriction that I take different random rings, to get a complementary pattern, etc."
   ]
  },
  {
   "cell_type": "code",
   "execution_count": 1,
   "id": "07f70fc8",
   "metadata": {},
   "outputs": [],
   "source": [
    "import sys\n",
    "import os\n",
    "\n",
    "sys.path.append('../../../scripts')\n",
    "sys.path.append('../../../models')\n",
    "\n",
    "import copy\n",
    "os.environ[\"CUDA_VISIBLE_DEVICES\"]= '2' #, this way I would choose GPU 3 to do the work\n",
    "\n",
    "from scipy.io import loadmat\n",
    "import numpy as np\n",
    "import matplotlib.pyplot as plt\n",
    "\n",
    "os.environ[\"CUDA_VISIBLE_DEVICES\"]= '0' #, this way I would choose GPU 3 to do the work\n",
    "\n",
    "import torch\n",
    "import numpy as np\n",
    "import time\n",
    "import h5py\n",
    "import matplotlib.pyplot as plt\n",
    "from scipy.ndimage import zoom # for compressing images / only for testing purposes to speed up NN training\n",
    "from scipy.fft import fft2, fftshift\n",
    "from scipy.io import loadmat\n",
    "from torch.utils.data import DataLoader, Subset\n",
    "import torch.optim as optim\n",
    "import torch.nn as nn\n",
    "from scipy.io import loadmat\n",
    "import random\n",
    "\n",
    "from data_preparation import *\n",
    "import plotly.graph_objects as gorings\n",
    "import scipy.io as sio\n",
    "from scipy.io import savemat"
   ]
  },
  {
   "cell_type": "markdown",
   "id": "e18b1840",
   "metadata": {},
   "source": [
    "In the code below, I compute exactly how much percent of k-space is sampled at which k_z position"
   ]
  },
  {
   "cell_type": "code",
   "execution_count": 2,
   "id": "b2ef8d77",
   "metadata": {},
   "outputs": [
    {
     "name": "stderr",
     "output_type": "stream",
     "text": [
      "No handles with labels found to put in legend.\n"
     ]
    },
    {
     "data": {
      "image/png": "[encoded data removed]",
      "text/plain": [
       "<Figure size 432x288 with 1 Axes>"
      ]
     },
     "metadata": {
      "needs_background": "light"
     },
     "output_type": "display_data"
    }
   ],
   "source": [
    "mat_data_8 = loadmat('../../fn_vb_DMI_CRT_P04/CombinedCSI_full_rank.mat')\n",
    "csi_data = mat_data_8['csi']\n",
    "Data = csi_data['Data'][0,0]\n",
    "\n",
    "Par = csi_data['Par'][0,0]\n",
    "\n",
    "Circles_Per_kz_Matrix = Par['AngIntsPerPartEnc'][0,0]\n",
    "\n",
    "number_of_rings = Circles_Per_kz_Matrix.shape[1]\n",
    "\n",
    "Circles_Per_ring = np.zeros(number_of_rings)\n",
    "\n",
    "for i in range(0,number_of_rings):\n",
    "    Circles_Per_ring[i] = np.sum(Circles_Per_kz_Matrix[:,i])\n",
    "\n",
    "Percentage_Per_ring = 100*Circles_Per_ring / np.sum(Circles_Per_kz_Matrix)\n",
    "\n",
    "plt.plot(Percentage_Per_ring)\n",
    "\n",
    "# Add labels and title\n",
    "plt.xlabel(\"ring index\")\n",
    "plt.ylabel(\"Percentage of k-space\")\n",
    "\n",
    "# Add a legend\n",
    "plt.legend()\n",
    "\n",
    "# Show the plot\n",
    "plt.show()"
   ]
  },
  {
   "cell_type": "markdown",
   "id": "830337a3",
   "metadata": {},
   "source": [
    "Compute how many rings amount to ~20% of the data"
   ]
  },
  {
   "cell_type": "code",
   "execution_count": 3,
   "id": "b55aabfe",
   "metadata": {},
   "outputs": [
    {
     "name": "stdout",
     "output_type": "stream",
     "text": [
      "ring\n",
      "1\n",
      "ring\n",
      "2\n",
      "ring\n",
      "3\n",
      "ring\n",
      "4\n",
      "11.691022964509393\n"
     ]
    }
   ],
   "source": [
    "x = 0\n",
    "\n",
    "for i in range(0,4):\n",
    "    x = x + Percentage_Per_ring[i]\n",
    "    print('ring')\n",
    "    print(i+1)\n",
    "\n",
    "    \n",
    "print(x)"
   ]
  },
  {
   "cell_type": "code",
   "execution_count": 4,
   "id": "b25333b2",
   "metadata": {},
   "outputs": [],
   "source": [
    "#### Next I want to undersample in a complementary fashion. I generate a pool that has all indices that are not sampled \n",
    "#### except for ones that are always kept across time steps. \n",
    "\n",
    "def pool(kept_Indices, Number_Circles):\n",
    "    all_indices = np.arange(Number_Circles)  # Generate array [0, 1, ..., Number_Circles-1]\n",
    "    return np.delete(all_indices, kept_Indices)  # Remove indices in kept_Indices"
   ]
  },
  {
   "cell_type": "code",
   "execution_count": 5,
   "id": "37264559",
   "metadata": {},
   "outputs": [],
   "source": [
    "fixed_ring_indices = list(range(0, 4))\n",
    "\n",
    "Pool = pool(fixed_ring_indices, number_of_rings)"
   ]
  },
  {
   "cell_type": "code",
   "execution_count": 6,
   "id": "86449093",
   "metadata": {},
   "outputs": [
    {
     "data": {
      "text/plain": [
       "array([ 4,  5,  6,  7,  8,  9, 10, 11, 12, 13, 14, 15, 16, 17, 18, 19, 20,\n",
       "       21, 22, 23, 24, 25, 26, 27, 28, 29, 30, 31, 32, 33, 34, 35, 36, 37,\n",
       "       38, 39, 40, 41, 42])"
      ]
     },
     "execution_count": 6,
     "metadata": {},
     "output_type": "execute_result"
    }
   ],
   "source": [
    "Pool"
   ]
  },
  {
   "cell_type": "code",
   "execution_count": 7,
   "id": "074328dd",
   "metadata": {},
   "outputs": [
    {
     "name": "stdout",
     "output_type": "stream",
     "text": [
      "[8. 8. 8. 8. 1. 1. 0. 1. 1. 1. 1. 0. 1. 0. 1. 0. 1. 0. 1. 1. 1. 1. 1. 1.\n",
      " 0. 0. 1. 0. 1. 1. 1. 1. 1. 1. 0. 0. 0. 0. 2. 1. 1. 2. 4.]\n",
      "Sampled k_z Positions time step 1:\n",
      "[ 0  1  2  3 10 18 23]\n",
      "Sampled k_z Positions time step 2:\n",
      "[ 0  1  2  3  9 14 19]\n",
      "Sampled k_z Positions time step 3:\n",
      "[ 0  1  2  3 16 21 29 42]\n",
      "Sampled k_z Positions time step 4:\n",
      "[ 0  1  2  3  7 12 38 42]\n",
      "Sampled k_z Positions time step 5:\n",
      "[ 0  1  2  3  4 28 38 40 41]\n",
      "Sampled k_z Positions time step 6:\n",
      "[ 0  1  2  3  5 22 30 42]\n",
      "Sampled k_z Positions time step 7:\n",
      "[ 0  1  2  3  8 31 33 41 42]\n",
      "Sampled k_z Positions time step 8:\n",
      "[ 0  1  2  3 20 26 32 39]\n",
      "Total percent sampled over time:\n",
      "72.30340988169797\n"
     ]
    }
   ],
   "source": [
    "kspace_percentage = Percentage_Per_ring\n",
    "\n",
    "#throw_away = 5\n",
    "\n",
    "# target_percentage = 20\n",
    "\n",
    "# #### Pool keeps track of which k_z indices have already been sampled; it contains the UNSAMPLED indices\n",
    "# Pool = pool(fixed_ring_indices, number_of_rings)\n",
    "# #Pool = Pool[throw_away:-throw_away] ## throw away top and bottom 5 k_z indices to save some k space time\n",
    "\n",
    "# Pool_fixed = pool(fixed_ring_indices, number_of_rings)\n",
    "# #Pool_fixed = Pool_fixed[5:-5]# this second pool never shrinks. If at a certain timesteps\n",
    "# # it is not managed to draw from the normal Pool anymore (because percentage contributions are too high)\n",
    "# #its still allowed to make 20 attempts from the fixed pool, to be able to sample even more\n",
    "\n",
    "\n",
    "\n",
    "# ## make sure you cannot have more than 100 attempts to select planes\n",
    "# dummy = 0 \n",
    "# covered_percentage =  np.sum(kspace_percentage[fixed_ring_indices])   # ~29%\n",
    "\n",
    "# Mask_ring_T = np.zeros((number_of_rings,8))\n",
    "# #Extra_Attempt = 0## allow up to 20 times to sample even closer to desired AF  \n",
    "\n",
    "# for T in range(0,8):\n",
    "#     temp_mask = np.zeros_like(kspace_percentage, dtype=int)  ## 0 to 42, one index per k_z position\n",
    "#     temp_mask[fixed_ring_indices] = 1  # always include fixed planes\n",
    "    \n",
    "#     dummy = 0\n",
    "#     covered_percentage =  np.sum(kspace_percentage[fixed_ring_indices])   # ~29%\n",
    "#     while dummy < 1000:\n",
    "#         dummy = dummy +1\n",
    "#         Extra_Attempt = 0\n",
    "\n",
    "#         if len(Pool) == 0: # pool is refreshed if it is empty\n",
    "#             Pool = pool(fixed_ring_indices, 43)\n",
    "#             #Pool = Pool[throw_away:-throw_away]\n",
    "\n",
    "#         kept_index = random.randint(0, len(Pool)-1)  # randomly select ring index to keep\n",
    "#         additional_coverage = kspace_percentage[Pool[kept_index]] # this is how much percent of kspace this position covers\n",
    "       \n",
    "        \n",
    "#         if covered_percentage + additional_coverage < target_percentage:\n",
    "#             temp_mask[Pool[kept_index]] = 1\n",
    "#             Pool = np.delete(Pool,kept_index)\n",
    "#             covered_percentage = covered_percentage + additional_coverage\n",
    "#         else:\n",
    "#             while Extra_Attempt <10: # try to draw from fixed pool\n",
    "#                 kept_index = random.randint(0, len(Pool_fixed)-1)\n",
    "#                 additional_coverage = kspace_percentage[Pool_fixed[kept_index]]\n",
    "\n",
    "#                 Extra_Attempt = Extra_Attempt +1\n",
    "\n",
    "#                 if covered_percentage + additional_coverage < target_percentage and temp_mask[Pool_fixed[kept_index]] == 0:\n",
    "#                     temp_mask[Pool_fixed[kept_index]] = 1\n",
    "#                     covered_percentage = covered_percentage + additional_coverage\n",
    "\n",
    "            \n",
    "#     Mask_ring_T[:,T] = temp_mask\n",
    "\n",
    "# for T in range(0,8):\n",
    "#     print(np.sum(Mask_ring_T[:,T]*kspace_percentage))\n",
    "    \n",
    "# for T in range(0,8):\n",
    "#     print(f'Sampled k_z Positions time step {T+1}:')\n",
    "#     print(np.where(Mask_ring_T[:,T])[0])\n",
    "    \n",
    "# file_name = \"Sampling_Patterns_Regular/Mask_AF5.npy\"    \n",
    "\n",
    "# # # Check if the file exists\n",
    "# if os.path.exists(file_name):\n",
    "#      print(f\"File '{file_name}' already exists. Skipping save.\")\n",
    "        \n",
    "# else:\n",
    "# #     # Save the Mask array to .mat\n",
    "#     np.save(file_name, Mask_ring_T)\n",
    "#     print(f\"File '{file_name}' saved successfully.\")\n",
    "\n",
    "Mask_ring_T = np.load(\"Sampling_Patterns_Regular/Mask_AF5.npy\")\n",
    "\n",
    "Mask_kz_T_Test = np.zeros((43))\n",
    "for i in range(0,8):\n",
    "    Mask_kz_T_Test = Mask_kz_T_Test + Mask_ring_T[:,i]\n",
    "    \n",
    "print(Mask_kz_T_Test)  ### if there are no 0s it means everything was sampled at least once\n",
    "\n",
    "for T in range(0,8):\n",
    "    print(f'Sampled k_z Positions time step {T+1}:')\n",
    "    print(np.where(Mask_ring_T[:,T])[0])\n",
    "\n",
    "np.where(Mask_kz_T_Test == 0)[0]\n",
    "kspace_percentage[np.where(Mask_kz_T_Test == 0)[0]]\n",
    "print(\"Total percent sampled over time:\")\n",
    "print(100-np.sum(kspace_percentage[np.where(Mask_kz_T_Test == 0)[0]]))"
   ]
  },
  {
   "cell_type": "markdown",
   "id": "a3637122",
   "metadata": {},
   "source": [
    "**Reshaping**\n",
    "\n",
    "The above code accomplishes that I have the complete k_space mask information in the format (ring, T). If Mask[i,j] = 1, it means ring index can be sampled at timestep T, otherwise not."
   ]
  },
  {
   "cell_type": "code",
   "execution_count": 8,
   "id": "0babf476",
   "metadata": {},
   "outputs": [
    {
     "data": {
      "text/plain": [
       "(43, 8)"
      ]
     },
     "execution_count": 8,
     "metadata": {},
     "output_type": "execute_result"
    }
   ],
   "source": [
    "Mask_ring_T.shape"
   ]
  },
  {
   "cell_type": "markdown",
   "id": "9e21771c",
   "metadata": {},
   "source": [
    "Next, I actually save something to that structure. I start with the fully sampled case."
   ]
  },
  {
   "cell_type": "markdown",
   "id": "b0954b1d",
   "metadata": {},
   "source": [
    "# ***Save to matlab file and numpy array***"
   ]
  },
  {
   "cell_type": "code",
   "execution_count": 9,
   "id": "b42d753d",
   "metadata": {},
   "outputs": [],
   "source": [
    "Mask =  np.pad(Mask_ring_T, ((0, 1), (0, 0)), mode='constant', constant_values=0) #add another 0 for the 44th ring of P03\n",
    "\n",
    "matlab_struct = {'Data': Mask}\n",
    "\n",
    "savemat('csiUndersampled_AF5.mat', {'csiUS': matlab_struct})"
   ]
  },
  {
   "cell_type": "markdown",
   "id": "06230612",
   "metadata": {},
   "source": [
    "# ***visualize undersampling pattern***"
   ]
  },
  {
   "cell_type": "code",
   "execution_count": 10,
   "id": "a836ad8a",
   "metadata": {},
   "outputs": [
    {
     "data": {
      "image/png": "[encoded data removed]",
      "text/plain": [
       "<Figure size 1152x576 with 8 Axes>"
      ]
     },
     "metadata": {
      "needs_background": "light"
     },
     "output_type": "display_data"
    }
   ],
   "source": [
    "kspace_percentage\n",
    "\n",
    "# X-Achse (Index der Einträge)\n",
    "\n",
    "\n",
    "fig, axes = plt.subplots(2, 4, figsize=(16, 8), constrained_layout=True)\n",
    "\n",
    "# Plot each subplot\n",
    "for i, ax in enumerate(axes.flat):\n",
    "    y = np.arange(len(kspace_percentage))  # Index positions for the bars\n",
    "    ax.barh(y, kspace_percentage*Mask_ring_T[:,i])  # Create horizontal bar chart\n",
    "    ax.set_title(f\"Sampling Pattern at T = {i}\")  # Set title for each subplot\n",
    "    ax.set_ylabel(\"Ring Index\")\n",
    "    ax.set_xlabel(\"k-space contribution (percent)\")\n",
    "\n",
    "# Show the plot\n",
    "plt.show()\n",
    "\n",
    "# Diagramm anzeigen\n",
    "plt.show()"
   ]
  },
  {
   "cell_type": "markdown",
   "id": "76beb62d",
   "metadata": {},
   "source": [
    "**Reconstruction k-z Positions of Rings**"
   ]
  },
  {
   "cell_type": "code",
   "execution_count": 11,
   "id": "e9768284",
   "metadata": {},
   "outputs": [
    {
     "data": {
      "text/plain": [
       "array([array([[526,   1,  43,   1,  96,   1,   8]], dtype=uint16),\n",
       "       array([[526,   1,  43,   1,  96,   1,   8]], dtype=uint16),\n",
       "       array([[526,   1,  41,   1,  96,   1,   8]], dtype=uint16),\n",
       "       array([[526,   1,  41,   1,  96,   1,   8]], dtype=uint16),\n",
       "       array([[526,   1,  41,   1,  96,   1,   8]], dtype=uint16),\n",
       "       array([[526,   1,  41,   1,  96,   1,   8]], dtype=uint16),\n",
       "       array([[526,   1,  41,   1,  96,   1,   8]], dtype=uint16),\n",
       "       array([[526,   1,  41,   1,  96,   1,   8]], dtype=uint16),\n",
       "       array([[526,   1,  41,   1,  96,   1,   8]], dtype=uint16),\n",
       "       array([[526,   1,  41,   1,  96,   1,   8]], dtype=uint16),\n",
       "       array([[526,   1,  41,   1,  96,   1,   8]], dtype=uint16),\n",
       "       array([[526,   1,  41,   1,  96,   1,   8]], dtype=uint16),\n",
       "       array([[526,   1,  41,   1,  96,   1,   8]], dtype=uint16),\n",
       "       array([[526,   1,  41,   1,  96,   1,   8]], dtype=uint16),\n",
       "       array([[526,   1,  39,   1,  96,   1,   8]], dtype=uint16),\n",
       "       array([[526,   1,  39,   1,  96,   1,   8]], dtype=uint16),\n",
       "       array([[526,   1,  39,   1,  96,   1,   8]], dtype=uint16),\n",
       "       array([[526,   1,  39,   1,  96,   1,   8]], dtype=uint16),\n",
       "       array([[526,   1,  39,   1,  96,   1,   8]], dtype=uint16),\n",
       "       array([[526,   1,  37,   1,  96,   1,   8]], dtype=uint16),\n",
       "       array([[526,   1,  37,   1,  96,   1,   8]], dtype=uint16),\n",
       "       array([[526,   1,  37,   1,  96,   1,   8]], dtype=uint16),\n",
       "       array([[526,   1,  37,   1,  96,   1,   8]], dtype=uint16),\n",
       "       array([[526,   1,  35,   1,  96,   1,   8]], dtype=uint16),\n",
       "       array([[526,   1,  35,   1,  96,   1,   8]], dtype=uint16),\n",
       "       array([[526,   1,  35,   1,  96,   1,   8]], dtype=uint16),\n",
       "       array([[526,   1,  33,   1,  96,   1,   8]], dtype=uint16),\n",
       "       array([[526,   1,  33,   1,  96,   1,   8]], dtype=uint16),\n",
       "       array([[526,   1,  31,   1,  96,   1,   8]], dtype=uint16),\n",
       "       array([[526,   1,  31,   1,  96,   1,   8]], dtype=uint16),\n",
       "       array([[526,   1,  31,   1,  96,   1,   8]], dtype=uint16),\n",
       "       array([[526,   1,  29,   1,  96,   1,   8]], dtype=uint16),\n",
       "       array([[526,   1,  29,   1,  96,   1,   8]], dtype=uint16),\n",
       "       array([[526,   1,  27,   1,  96,   1,   8]], dtype=uint16),\n",
       "       array([[526,   1,  25,   1,  96,   1,   8]], dtype=uint16),\n",
       "       array([[526,   1,  25,   1,  96,   1,   8]], dtype=uint16),\n",
       "       array([[526,   1,  23,   1,  96,   1,   8]], dtype=uint16),\n",
       "       array([[526,   1,  21,   1,  96,   1,   8]], dtype=uint16),\n",
       "       array([[526,   1,  19,   1,  96,   1,   8]], dtype=uint16),\n",
       "       array([[526,   1,  17,   1,  96,   1,   8]], dtype=uint16),\n",
       "       array([[526,   1,  15,   1,  96,   1,   8]], dtype=uint16),\n",
       "       array([[526,   1,  13,   1,  96,   1,   8]], dtype=uint16),\n",
       "       array([[526,   1,   9,   1,  96,   1,   8]], dtype=uint16)],\n",
       "      dtype=object)"
      ]
     },
     "execution_count": 11,
     "metadata": {},
     "output_type": "execute_result"
    }
   ],
   "source": [
    "mat_data_4 = loadmat('../../fn_vb_DMI_CRT_P04/CombinedCSI_full_rank.mat')\n",
    "csi_data = mat_data_4['csi']\n",
    "par_data = csi_data['Par'][0,0]\n",
    "Data_Size = par_data['DataSize'][0][0][0]\n",
    "Data_Size"
   ]
  },
  {
   "cell_type": "code",
   "execution_count": 12,
   "id": "26538943",
   "metadata": {},
   "outputs": [
    {
     "name": "stdout",
     "output_type": "stream",
     "text": [
      "Total Number of Rings\n",
      "1437\n",
      "Total Number of k-Space points\n",
      "755862\n"
     ]
    }
   ],
   "source": [
    "Number_Of_Rings = 0\n",
    "for i in range(0,43):\n",
    "    Number_Of_Rings = Number_Of_Rings +Data_Size[i][0][2]\n",
    "print('Total Number of Rings')\n",
    "print(Number_Of_Rings)\n",
    "\n",
    "print('Total Number of k-Space points')\n",
    "print(Number_Of_Rings*526)"
   ]
  },
  {
   "cell_type": "code",
   "execution_count": 13,
   "id": "24c65004",
   "metadata": {},
   "outputs": [
    {
     "data": {
      "text/plain": [
       "172"
      ]
     },
     "execution_count": 13,
     "metadata": {},
     "output_type": "execute_result"
    }
   ],
   "source": [
    "43*4"
   ]
  },
  {
   "cell_type": "code",
   "execution_count": 14,
   "id": "dc9994e5",
   "metadata": {},
   "outputs": [
    {
     "data": {
      "text/plain": [
       "0.11969380654140571"
      ]
     },
     "execution_count": 14,
     "metadata": {},
     "output_type": "execute_result"
    }
   ],
   "source": [
    "172/(1437)"
   ]
  },
  {
   "cell_type": "code",
   "execution_count": null,
   "id": "8a40aa06",
   "metadata": {},
   "outputs": [],
   "source": []
  }
 ],
 "metadata": {
  "kernelspec": {
   "display_name": "Python 3 (ipykernel)",
   "language": "python",
   "name": "python3"
  },
  "language_info": {
   "codemirror_mode": {
    "name": "ipython",
    "version": 3
   },
   "file_extension": ".py",
   "mimetype": "text/x-python",
   "name": "python",
   "nbconvert_exporter": "python",
   "pygments_lexer": "ipython3",
   "version": "3.7.10"
  }
 },
 "nbformat": 4,
 "nbformat_minor": 5
}
