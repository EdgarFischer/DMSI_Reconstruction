{
 "cells": [
  {
   "cell_type": "markdown",
   "id": "eaa66877",
   "metadata": {},
   "source": [
    "In this file I start by implementing a compressed sensing reconstruction approach. I want to have a well accepted classical method \n",
    "as a baseline for my later deep learning models."
   ]
  },
  {
   "cell_type": "code",
   "execution_count": 1,
   "id": "1cac4bea",
   "metadata": {},
   "outputs": [],
   "source": [
    "import sys\n",
    "import os\n",
    "\n",
    "sys.path.append('../scripts')\n",
    "sys.path.append('../models')\n",
    "\n",
    "os.environ[\"CUDA_VISIBLE_DEVICES\"]= '2' #, this way I would choose GPU 3 to do the work\n",
    "\n",
    "from scipy.io import loadmat\n",
    "import numpy as np\n",
    "import matplotlib.pyplot as plt\n",
    "import plotly.graph_objects as go\n",
    "from data_preparation import *\n",
    "from output_statistics import *"
   ]
  },
  {
   "cell_type": "code",
   "execution_count": 17,
   "id": "5cae7cbb",
   "metadata": {},
   "outputs": [],
   "source": [
    "# GM = np.zeros((22,22,21,6))\n",
    "# WM = np.zeros((22,22,21,6))\n",
    "\n",
    "# for i in range(0,6):\n",
    "#     GM[..., i] = np.load(f'fn_vb_DMI_CRT_P0{i+3}/GM_mask.npy')\n",
    "#     WM[..., i] = np.load(f'fn_vb_DMI_CRT_P0{i+3}/WM_mask.npy')\n",
    "    \n",
    "# np.save('GM_masks.npy', GM)\n",
    "# np.save('WM_masks.npy', WM)"
   ]
  },
  {
   "cell_type": "code",
   "execution_count": 16,
   "id": "7e2ba841",
   "metadata": {},
   "outputs": [
    {
     "data": {
      "text/plain": [
       "<matplotlib.image.AxesImage at 0x7fa5c5e58410>"
      ]
     },
     "execution_count": 16,
     "metadata": {},
     "output_type": "execute_result"
    },
    {
     "data": {
      "image/png": "[encoded data removed]",
      "text/plain": [
       "<Figure size 432x288 with 1 Axes>"
      ]
     },
     "metadata": {
      "needs_background": "light"
     },
     "output_type": "display_data"
    }
   ],
   "source": [
    "# plt.imshow(WM[:,:,10,1]+GM[:,:,10,1])"
   ]
  },
  {
   "cell_type": "markdown",
   "id": "24f25cdd",
   "metadata": {},
   "source": [
    "1. Loading data"
   ]
  },
  {
   "cell_type": "code",
   "execution_count": null,
   "id": "3ffd1ccb",
   "metadata": {},
   "outputs": [],
   "source": [
    "# mat_data_4 = loadmat('fn_vb_DMI_CRT_P04/CombinedCSI_full_rank.mat')\n",
    "\n",
    "#mat_data = loadmat('fn_vb_DMI_CRT_P08/CombinedCSI_full_rank.mat')\n",
    "# mat_data_3 = loadmat('fn_vb_DMI_CRT_P08/CombinedCSI_LR_8_P03.mat')\n",
    "# mat_data_4 = loadmat('CombinedCSI_LR_8_P04.mat')\n",
    "# mat_data_5 = loadmat('CombinedCSI_LR_8_P05.mat')\n",
    "# mat_data_6 = loadmat('CombinedCSI_LR_8_P06.mat')\n",
    "# mat_data_7 = loadmat('CombinedCSI_LR_8_P07.mat')\n",
    "# mat_data_8 = loadmat('CombinedCSI_LR_8_P08.mat')\n",
    "\n",
    "# # #Data= np.load('combined_trancuated_k_space_low_rank_15.npy')[..., -1]\n",
    "# # #mat_data = loadmat('P08_Low_Rank_Spectral_Fit/CombinedCSI.mat')\n",
    "\n",
    "# csi_3 = mat_data_3['csi']\n",
    "# csi_4 = mat_data_4['csi']\n",
    "# csi_5 = mat_data_5['csi']\n",
    "# csi_6 = mat_data_6['csi']\n",
    "# csi_7 = mat_data_7['csi']\n",
    "# csi_8 = mat_data_8['csi']\n",
    "\n",
    "# Data_3 = csi_3['Data'][0,0]\n",
    "# Data_4 = csi_4['Data'][0,0]\n",
    "# Data_5 = csi_5['Data'][0,0]\n",
    "# Data_6 = csi_6['Data'][0,0]\n",
    "# Data_7 = csi_7['Data'][0,0]\n",
    "# Data_8 = csi_8['Data'][0,0]\n",
    "\n",
    "# Data_4 = csi_4['Data'][0,0]\n",
    "# Data_8 = csi_8['Data'][0,0]\n",
    "\n",
    "#np.save('Low_Rank_8.npy', Data)\n",
    "\n",
    "Combined_Full_Rank = np.load(\"Ground_Truth/Full_Rank/Full_Rank_All.npy\")\n",
    "Combined_Low_Rank = np.load(\"Ground_Truth/Archiv/Low_Rank_8_P03-P08.npy\")\n",
    "\n",
    "#Data = np.stack((Data_3, Data_4, Data_5, Data_6, Data_7, Data_8), axis=-1)\n",
    "#np.save('Combined_Low_Rank_8.npy', Data)\n",
    "#Data= np.load('combined_trancuated_k_space_full_rank.npy')\n",
    "\n",
    "#Under_Sampled_AF_3 = np.load('Undersampled_Data/combined_undersampled_possoin_3D_fixed_r0_AF_3.npy')\n",
    "#Under_Sampled_AF_5 = np.load('Undersampled_Data/combined_undersampled_possoin_3D_fixed_r0_AF_5.npy')"
   ]
  },
  {
   "cell_type": "code",
   "execution_count": 8,
   "id": "516401cf",
   "metadata": {},
   "outputs": [
    {
     "data": {
      "text/plain": [
       "(22, 22, 21, 96, 8, 6)"
      ]
     },
     "execution_count": 8,
     "metadata": {},
     "output_type": "execute_result"
    }
   ],
   "source": [
    "Combined_Low_Rank.shape"
   ]
  },
  {
   "cell_type": "code",
   "execution_count": 5,
   "id": "34770590",
   "metadata": {},
   "outputs": [
    {
     "data": {
      "text/plain": [
       "(22, 22, 21, 96, 8)"
      ]
     },
     "execution_count": 5,
     "metadata": {},
     "output_type": "execute_result"
    }
   ],
   "source": [
    "Data_3.shape"
   ]
  },
  {
   "cell_type": "code",
   "execution_count": 11,
   "id": "10a2e15e",
   "metadata": {},
   "outputs": [],
   "source": [
    "Rank = \"Full\"\n",
    "\n",
    "if Rank == \"Full\":\n",
    "    Data = Combined_Full_Rank[..., 0]\n",
    "else: \n",
    "    Data = Combined_Low_Rank[..., 0]\n",
    "    \n",
    "#Data = np.swapaxes(Data, -1, -2)\n",
    "\n",
    "#Data = csi_3['Data'][0,0]\n",
    "DataSize = Data.shape  # e.g., (X, Y, Z, T, W)\n",
    "UsedRank = 8\n",
    "\n",
    "reshaped_data = Data.reshape(\n",
    "    DataSize[0]*DataSize[1]*DataSize[2]*DataSize[3],\n",
    "    DataSize[4]\n",
    ")\n",
    "\n",
    "# -- Perform SVD (economy-size) --\n",
    "#    np.linalg.svd returns U, S, Vh such that reshaped_data = U @ diag(S) @ Vh\n",
    "U, S, Vh = np.linalg.svd(reshaped_data, full_matrices=False)\n",
    "\n",
    "# -- Truncate to the desired rank --\n",
    "U_trunc = U[:, :UsedRank]                # shape: (N, UsedRank)\n",
    "S_trunc = np.diag(S[:UsedRank])          # shape: (UsedRank, UsedRank)\n",
    "Vh_trunc = Vh[:UsedRank, :]             # shape: (UsedRank, M)\n",
    "\n",
    "# -- Reconstruct with rank = UsedRank --\n",
    "#    Note: In MATLAB, the code has conj(V)'; np.linalg.svd already provides Vh = V^H for complex data.\n",
    "low_rank_approx = U_trunc @ S_trunc @ Vh_trunc\n",
    "\n",
    "S_trunc\n",
    "\n",
    "Data_new2 = low_rank_approx.reshape(DataSize)"
   ]
  },
  {
   "cell_type": "code",
   "execution_count": 17,
   "id": "05586018",
   "metadata": {},
   "outputs": [
    {
     "data": {
      "text/plain": [
       "4697.3164"
      ]
     },
     "execution_count": 17,
     "metadata": {},
     "output_type": "execute_result"
    }
   ],
   "source": [
    "np.abs(Data_new[0,0,10,0,1])"
   ]
  },
  {
   "cell_type": "code",
   "execution_count": 16,
   "id": "82de1e05",
   "metadata": {},
   "outputs": [
    {
     "data": {
      "text/plain": [
       "7591.926"
      ]
     },
     "execution_count": 16,
     "metadata": {},
     "output_type": "execute_result"
    }
   ],
   "source": [
    "np.abs(Data_new2[0,0,10,1,0])\n",
    "\n",
    "#plt.imshow(np.abs(Data_new2[:,:,10,1,0]))"
   ]
  },
  {
   "cell_type": "code",
   "execution_count": 15,
   "id": "68eb07eb",
   "metadata": {},
   "outputs": [
    {
     "name": "stdout",
     "output_type": "stream",
     "text": [
      "[[8109158.        0.        0.        0.        0.        0.        0.\n",
      "        0. ]\n",
      " [      0.  2229334.5       0.        0.        0.        0.        0.\n",
      "        0. ]\n",
      " [      0.        0.  1436254.2       0.        0.        0.        0.\n",
      "        0. ]\n",
      " [      0.        0.        0.  1241672.1       0.        0.        0.\n",
      "        0. ]\n",
      " [      0.        0.        0.        0.   896997.6       0.        0.\n",
      "        0. ]\n",
      " [      0.        0.        0.        0.        0.   844327.1       0.\n",
      "        0. ]\n",
      " [      0.        0.        0.        0.        0.        0.   749926.2\n",
      "        0. ]\n",
      " [      0.        0.        0.        0.        0.        0.        0.\n",
      "   718524.4]]\n"
     ]
    }
   ],
   "source": [
    "Data = Combined_Low_Rank[..., 0]\n",
    "Data = np.swapaxes(Data, -1, -2)\n",
    "\n",
    "#Data = csi_3['Data'][0,0]\n",
    "DataSize = Data.shape  # e.g., (X, Y, Z, T, W)\n",
    "UsedRank = 8\n",
    "\n",
    "reshaped_data = Data.reshape(\n",
    "    DataSize[0]*DataSize[1]*DataSize[2]*DataSize[3],\n",
    "    DataSize[4]\n",
    ")\n",
    "\n",
    "# -- Perform SVD (economy-size) --\n",
    "#    np.linalg.svd returns U, S, Vh such that reshaped_data = U @ diag(S) @ Vh\n",
    "U, S, Vh = np.linalg.svd(reshaped_data, full_matrices=False)\n",
    "\n",
    "# -- Truncate to the desired rank --\n",
    "U_trunc = U[:, :UsedRank]                # shape: (N, UsedRank)\n",
    "S_trunc = np.diag(S[:UsedRank])          # shape: (UsedRank, UsedRank)\n",
    "Vh_trunc = Vh[:UsedRank, :]             # shape: (UsedRank, M)\n",
    "\n",
    "# -- Reconstruct with rank = UsedRank --\n",
    "#    Note: In MATLAB, the code has conj(V)'; np.linalg.svd already provides Vh = V^H for complex data.\n",
    "low_rank_approx = U_trunc @ S_trunc @ Vh_trunc\n",
    "\n",
    "S_trunc\n",
    "\n",
    "Data_new = low_rank_approx.reshape(DataSize)\n",
    "\n",
    "print(S_trunc)"
   ]
  },
  {
   "cell_type": "markdown",
   "id": "3cd299d1",
   "metadata": {},
   "source": [
    "2. Fourier Transform"
   ]
  },
  {
   "cell_type": "code",
   "execution_count": null,
   "id": "6845c991",
   "metadata": {},
   "outputs": [],
   "source": [
    "rank = 8\n",
    "\n",
    "data = Data[:,:,:,:,:,0]\n",
    "under_Sampled_AF_3 = Under_Sampled_AF_3[:,:,:,:,:,0]\n",
    "under_Sampled_AF_5 = Under_Sampled_AF_5[:,:,:,:,:,0]\n",
    "\n",
    "Low_Rank_Data_AF_3 = low_rank(data = under_Sampled_AF_3, rank = rank)\n",
    "Low_Rank_Data_AF_5 = low_rank(data = under_Sampled_AF_5, rank = rank)\n",
    "Low_Rank_Data = low_rank(data = data, rank = rank)"
   ]
  },
  {
   "cell_type": "code",
   "execution_count": null,
   "id": "093a94b5",
   "metadata": {},
   "outputs": [],
   "source": [
    "norm_values_test = np.ones((96,8))  ## dont check normalization\n",
    "\n",
    "plot_general_statistics(Low_Rank_Data_AF_5, Low_Rank_Data_AF_3, Low_Rank_Data, 96, norm_values_test)\n",
    "plot_general_statistics_PSNR(Low_Rank_Data_AF_5, Low_Rank_Data_AF_3, Low_Rank_Data, 96, norm_values_test)\n",
    "plot_general_statistics_SSIM(Low_Rank_Data_AF_5, Low_Rank_Data_AF_3, Low_Rank_Data, 96, norm_values_test)"
   ]
  },
  {
   "cell_type": "code",
   "execution_count": null,
   "id": "6747ee1d",
   "metadata": {},
   "outputs": [],
   "source": [
    "t = 60\n",
    "T=7\n",
    "\n",
    "comparison_Plot_3D_vs_Ifft(Low_Rank_Data, Low_Rank_Data_AF_3, Low_Rank_Data_AF_5, t, T, domain=\"spectral\")"
   ]
  },
  {
   "cell_type": "code",
   "execution_count": null,
   "id": "21fc4529",
   "metadata": {},
   "outputs": [],
   "source": []
  }
 ],
 "metadata": {
  "kernelspec": {
   "display_name": "Python 3 (ipykernel)",
   "language": "python",
   "name": "python3"
  },
  "language_info": {
   "codemirror_mode": {
    "name": "ipython",
    "version": 3
   },
   "file_extension": ".py",
   "mimetype": "text/x-python",
   "name": "python",
   "nbconvert_exporter": "python",
   "pygments_lexer": "ipython3",
   "version": "3.7.10"
  }
 },
 "nbformat": 4,
 "nbformat_minor": 5
}
